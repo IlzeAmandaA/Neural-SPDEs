{
  "nbformat": 4,
  "nbformat_minor": 0,
  "metadata": {
    "accelerator": "GPU",
    "colab": {
      "name": "Parabolic1D.ipynb",
      "provenance": [],
      "collapsed_sections": [],
      "machine_shape": "hm",
      "include_colab_link": true
    },
    "kernelspec": {
      "display_name": "Python 3",
      "name": "python3"
    },
    "language_info": {
      "name": "python"
    }
  },
  "cells": [
    {
      "cell_type": "markdown",
      "metadata": {
        "id": "view-in-github",
        "colab_type": "text"
      },
      "source": [
        "<a href=\"https://colab.research.google.com/github/crispitagorico/Neural-SPDEs/blob/main/Parabolic1D.ipynb\" target=\"_parent\"><img src=\"https://colab.research.google.com/assets/colab-badge.svg\" alt=\"Open In Colab\"/></a>"
      ]
    },
    {
      "cell_type": "code",
      "metadata": {
        "id": "JFWquUDbiC2v",
        "colab": {
          "base_uri": "https://localhost:8080/"
        },
        "outputId": "9ff1e0b7-0b97-4e69-d04f-18d92ee3eac1"
      },
      "source": [
        "!git clone \"https://github.com/crispitagorico/Neural-SPDEs.git\""
      ],
      "execution_count": 1,
      "outputs": [
        {
          "output_type": "stream",
          "name": "stdout",
          "text": [
            "Cloning into 'Neural-SPDEs'...\n",
            "remote: Enumerating objects: 39, done.\u001b[K\n",
            "remote: Counting objects: 100% (39/39), done.\u001b[K\n",
            "remote: Compressing objects: 100% (28/28), done.\u001b[K\n",
            "remote: Total 39 (delta 13), reused 20 (delta 5), pack-reused 0\u001b[K\n",
            "Unpacking objects: 100% (39/39), done.\n"
          ]
        }
      ]
    },
    {
      "cell_type": "code",
      "metadata": {
        "colab": {
          "base_uri": "https://localhost:8080/"
        },
        "id": "h70GguMIig1a",
        "outputId": "b9c297e3-4097-486a-e514-a12cc89f3602"
      },
      "source": [
        "%cd Neural-SPDEs/"
      ],
      "execution_count": 1,
      "outputs": [
        {
          "output_type": "stream",
          "name": "stdout",
          "text": [
            "/content/Neural-SPDEs\n"
          ]
        }
      ]
    },
    {
      "cell_type": "code",
      "metadata": {
        "id": "UfJa8lcgkBic",
        "colab": {
          "base_uri": "https://localhost:8080/"
        },
        "outputId": "abd99e08-1df4-42fc-c42a-27e435733ba5"
      },
      "source": [
        "from google.colab import drive\n",
        "drive.mount('/content/drive')"
      ],
      "execution_count": 3,
      "outputs": [
        {
          "output_type": "stream",
          "name": "stdout",
          "text": [
            "Mounted at /content/drive\n"
          ]
        }
      ]
    },
    {
      "cell_type": "code",
      "metadata": {
        "id": "9OL6xwxkxOEp"
      },
      "source": [
        "import matplotlib.pyplot as plt\n",
        "from tqdm.notebook import tqdm\n",
        "\n",
        "import torch\n",
        "import torch.optim as optim\n",
        "\n",
        "from utilities import MatReader, LpLoss, count_params\n",
        "from neuralSPDE_1D import NeuralFixedPoint\n",
        "from NFO_1D import FNO1d\n",
        "\n",
        "torch.manual_seed(0)\n",
        "import warnings\n",
        "warnings.filterwarnings('ignore')"
      ],
      "execution_count": 2,
      "outputs": []
    },
    {
      "cell_type": "code",
      "metadata": {
        "id": "bdb_GznqTeIm"
      },
      "source": [
        "device = torch.device('cuda' if torch.cuda.is_available() else 'cpu')"
      ],
      "execution_count": 3,
      "outputs": []
    },
    {
      "cell_type": "code",
      "metadata": {
        "id": "enQup9GT6br9"
      },
      "source": [
        "reader = MatReader('../drive/MyDrive/parabolic_additive_varying_init.mat')\n",
        "xi = reader.read_field('forcing')\n",
        "data = reader.read_field('sol')"
      ],
      "execution_count": 4,
      "outputs": []
    },
    {
      "cell_type": "code",
      "metadata": {
        "id": "ZGFu5hXl6TlK"
      },
      "source": [
        "ntrain = 800\n",
        "ntest = 200\n",
        "\n",
        "batch_size = 20\n",
        "epochs = 500\n",
        "learning_rate = 0.0025\n",
        "scheduler_step = 100\n",
        "scheduler_gamma = 0.5\n",
        "step = 1\n",
        "\n",
        "sub_t = 1\n",
        "\n",
        "u0_train = data[:ntrain,:-1,0][:,None,...]\n",
        "u_train = data[:ntrain,:-1,0:50:sub_t][...,-1]\n",
        "xi_train = xi[:ntrain, :-1, 0:50:sub_t][:,None,...]\n",
        "xi_train = torch.cat([xi_train,torch.ones_like(xi_train)],dim=1)\n",
        "\n",
        "u0_test = data[-ntest:,:-1,0][:,None,...]\n",
        "u_test = data[-ntest:,:-1,0:50:sub_t][...,-1]\n",
        "xi_test = xi[-ntest:, :-1, 0:50:sub_t][:,None,...]\n",
        "xi_test = torch.cat([xi_test,torch.ones_like(xi_test)],dim=1)\n",
        "\n",
        "train_loader = torch.utils.data.DataLoader(torch.utils.data.TensorDataset(u0_train, xi_train, u_train), batch_size=batch_size, shuffle=True)\n",
        "test_loader = torch.utils.data.DataLoader(torch.utils.data.TensorDataset(u0_test, xi_test, u_test), batch_size=batch_size, shuffle=False)"
      ],
      "execution_count": 5,
      "outputs": []
    },
    {
      "cell_type": "code",
      "metadata": {
        "colab": {
          "base_uri": "https://localhost:8080/",
          "height": 297
        },
        "id": "5aYgXX0N7dqB",
        "outputId": "cdae9600-8b92-4b4c-dcb8-850e08132aae"
      },
      "source": [
        "x_ft = torch.fft.fftshift(torch.fft.fftn(u_train[0],dim=0),dim=0)\n",
        "plt.plot(x_ft)\n",
        "plt.title(r'$fft({u}(x,1))$')\n",
        "plt.xlabel('k')\n",
        "plt.show()"
      ],
      "execution_count": 8,
      "outputs": [
        {
          "output_type": "display_data",
          "data": {
            "image/png": "[encoded data removed]",
            "text/plain": [
              "<Figure size 432x288 with 1 Axes>"
            ]
          },
          "metadata": {
            "needs_background": "light"
          }
        }
      ]
    },
    {
      "cell_type": "code",
      "metadata": {
        "colab": {
          "base_uri": "https://localhost:8080/",
          "height": 265
        },
        "id": "YeBMlrU_5mXz",
        "outputId": "6d7c308d-a562-4c4e-e22f-1afd10cbabee"
      },
      "source": [
        "plt.plot(data[100,:,0:50:sub_t][...,-1],label=r'$u(1-\\epsilon,t)$')\n",
        "plt.plot(data[100,:,0:50:sub_t][...,0],label=r'$u(0,t)$')\n",
        "plt.legend()\n",
        "plt.show()"
      ],
      "execution_count": 9,
      "outputs": [
        {
          "output_type": "display_data",
          "data": {
            "image/png": "[encoded data removed]",
            "text/plain": [
              "<Figure size 432x288 with 1 Axes>"
            ]
          },
          "metadata": {
            "needs_background": "light"
          }
        }
      ]
    },
    {
      "cell_type": "code",
      "metadata": {
        "colab": {
          "base_uri": "https://localhost:8080/"
        },
        "id": "sLQyaqkGyfYD",
        "outputId": "d83fccdb-ac41-4f93-c797-c219624667bb"
      },
      "source": [
        "# model = NeuralFixedPoint(modes1=16, modes2=16, modes3=8, in_channels=1, hidden_channels=64, forcing_channels=1, out_channels=1, T=T, n_iter=4).cuda()\n",
        "model = NeuralFixedPoint(modes1=24, modes2=10, in_channels=1, hidden_channels=4, forcing_channels=2, out_channels=1, T=xi_train.shape[3], n_iter=1).cuda()\n",
        "\n",
        "print(count_params(model))\n",
        "\n",
        "optimizer = torch.optim.Adam(model.parameters(), lr=0.001, weight_decay=1e-4)\n",
        "scheduler = torch.optim.lr_scheduler.StepLR(optimizer, step_size=100, gamma=0.5)"
      ],
      "execution_count": 28,
      "outputs": [
        {
          "output_type": "stream",
          "name": "stdout",
          "text": [
            "4673\n"
          ]
        }
      ]
    },
    {
      "cell_type": "code",
      "metadata": {
        "id": "ZflyhT3qyxPI",
        "colab": {
          "base_uri": "https://localhost:8080/"
        },
        "outputId": "b6341a4a-9a58-4a50-ade6-39a349e8a744"
      },
      "source": [
        "myloss = LpLoss(size_average=False)\n",
        "losses_train = []\n",
        "losses_test = []\n",
        "for ep in range(epochs):\n",
        "\n",
        "    model.train()\n",
        "    \n",
        "    train_loss = 0.\n",
        "    for u0_, xi_, u_ in train_loader:\n",
        "\n",
        "        loss = 0.\n",
        "\n",
        "        u0_ = u0_.to(device)\n",
        "        xi_ = xi_.to(device)\n",
        "        u_ = u_.to(device)\n",
        "\n",
        "        u_pred = model(u0_, xi_)\n",
        "\n",
        "        loss = myloss(u_pred[...,-1].reshape(batch_size, -1), u_.reshape(batch_size, -1))\n",
        "\n",
        "        train_loss += loss.item()\n",
        "        loss.backward()\n",
        "        optimizer.step()\n",
        "        optimizer.zero_grad()\n",
        " \n",
        "    test_loss = 0.\n",
        "    with torch.no_grad():\n",
        "        for u0_, xi_, u_ in test_loader:\n",
        "            \n",
        "            loss = 0.\n",
        "            \n",
        "            u0_ = u0_.to(device)\n",
        "            xi_ = xi_.to(device)\n",
        "            u_ = u_.to(device)\n",
        "\n",
        "            u_pred = model(u0_, xi_)\n",
        "\n",
        "            loss = myloss(u_pred[...,-1].reshape(batch_size, -1), u_.reshape(batch_size, -1))\n",
        "\n",
        "            test_loss += loss.item()\n",
        "\n",
        "    scheduler.step()\n",
        "    # if ep%20==0:\n",
        "    losses_train.append(train_loss/ntrain)\n",
        "    losses_test.append(test_loss/ntest)\n",
        "    print('Epoch {:04d} | Total Train Loss {:.6f} | Total Test Loss {:.6f}'.format(ep, train_loss / ntrain, test_loss / ntest))\n",
        "    "
      ],
      "execution_count": 29,
      "outputs": [
        {
          "output_type": "stream",
          "name": "stdout",
          "text": [
            "Epoch 0000 | Total Train Loss 0.540451 | Total Test Loss 0.366028\n",
            "Epoch 0001 | Total Train Loss 0.337608 | Total Test Loss 0.327784\n",
            "Epoch 0002 | Total Train Loss 0.315816 | Total Test Loss 0.311082\n",
            "Epoch 0003 | Total Train Loss 0.301085 | Total Test Loss 0.295323\n",
            "Epoch 0004 | Total Train Loss 0.284189 | Total Test Loss 0.280881\n",
            "Epoch 0005 | Total Train Loss 0.249438 | Total Test Loss 0.229457\n",
            "Epoch 0006 | Total Train Loss 0.197555 | Total Test Loss 0.124590\n",
            "Epoch 0007 | Total Train Loss 0.123079 | Total Test Loss 0.109325\n",
            "Epoch 0008 | Total Train Loss 0.114224 | Total Test Loss 0.119675\n",
            "Epoch 0009 | Total Train Loss 0.136591 | Total Test Loss 0.108931\n",
            "Epoch 0010 | Total Train Loss 0.108669 | Total Test Loss 0.104037\n",
            "Epoch 0011 | Total Train Loss 0.120996 | Total Test Loss 0.100565\n",
            "Epoch 0012 | Total Train Loss 0.117377 | Total Test Loss 0.130408\n",
            "Epoch 0013 | Total Train Loss 0.108903 | Total Test Loss 0.087491\n",
            "Epoch 0014 | Total Train Loss 0.094719 | Total Test Loss 0.085810\n",
            "Epoch 0015 | Total Train Loss 0.090709 | Total Test Loss 0.086157\n",
            "Epoch 0016 | Total Train Loss 0.106051 | Total Test Loss 0.093992\n",
            "Epoch 0017 | Total Train Loss 0.095213 | Total Test Loss 0.086454\n",
            "Epoch 0018 | Total Train Loss 0.097447 | Total Test Loss 0.081867\n",
            "Epoch 0019 | Total Train Loss 0.092560 | Total Test Loss 0.139765\n",
            "Epoch 0020 | Total Train Loss 0.097891 | Total Test Loss 0.079741\n",
            "Epoch 0021 | Total Train Loss 0.101138 | Total Test Loss 0.077776\n",
            "Epoch 0022 | Total Train Loss 0.089043 | Total Test Loss 0.077376\n",
            "Epoch 0023 | Total Train Loss 0.085929 | Total Test Loss 0.076717\n",
            "Epoch 0024 | Total Train Loss 0.088828 | Total Test Loss 0.074011\n",
            "Epoch 0025 | Total Train Loss 0.082758 | Total Test Loss 0.075967\n",
            "Epoch 0026 | Total Train Loss 0.092946 | Total Test Loss 0.089666\n",
            "Epoch 0027 | Total Train Loss 0.085541 | Total Test Loss 0.089794\n",
            "Epoch 0028 | Total Train Loss 0.090319 | Total Test Loss 0.072074\n",
            "Epoch 0029 | Total Train Loss 0.083621 | Total Test Loss 0.089465\n",
            "Epoch 0030 | Total Train Loss 0.092676 | Total Test Loss 0.083334\n",
            "Epoch 0031 | Total Train Loss 0.087649 | Total Test Loss 0.141163\n",
            "Epoch 0032 | Total Train Loss 0.079229 | Total Test Loss 0.101911\n",
            "Epoch 0033 | Total Train Loss 0.079185 | Total Test Loss 0.070490\n",
            "Epoch 0034 | Total Train Loss 0.085968 | Total Test Loss 0.116276\n",
            "Epoch 0035 | Total Train Loss 0.108913 | Total Test Loss 0.144819\n",
            "Epoch 0036 | Total Train Loss 0.123902 | Total Test Loss 0.102750\n",
            "Epoch 0037 | Total Train Loss 0.099447 | Total Test Loss 0.100751\n",
            "Epoch 0038 | Total Train Loss 0.093239 | Total Test Loss 0.104480\n",
            "Epoch 0039 | Total Train Loss 0.085358 | Total Test Loss 0.074918\n",
            "Epoch 0040 | Total Train Loss 0.083668 | Total Test Loss 0.080888\n",
            "Epoch 0041 | Total Train Loss 0.084023 | Total Test Loss 0.068504\n",
            "Epoch 0042 | Total Train Loss 0.073797 | Total Test Loss 0.078929\n",
            "Epoch 0043 | Total Train Loss 0.091661 | Total Test Loss 0.081572\n",
            "Epoch 0044 | Total Train Loss 0.076712 | Total Test Loss 0.066552\n",
            "Epoch 0045 | Total Train Loss 0.083615 | Total Test Loss 0.068027\n",
            "Epoch 0046 | Total Train Loss 0.072861 | Total Test Loss 0.081739\n",
            "Epoch 0047 | Total Train Loss 0.074073 | Total Test Loss 0.069344\n",
            "Epoch 0048 | Total Train Loss 0.086216 | Total Test Loss 0.078279\n",
            "Epoch 0049 | Total Train Loss 0.074146 | Total Test Loss 0.133947\n",
            "Epoch 0050 | Total Train Loss 0.074604 | Total Test Loss 0.067426\n",
            "Epoch 0051 | Total Train Loss 0.070471 | Total Test Loss 0.070038\n",
            "Epoch 0052 | Total Train Loss 0.075493 | Total Test Loss 0.066246\n",
            "Epoch 0053 | Total Train Loss 0.071371 | Total Test Loss 0.064120\n",
            "Epoch 0054 | Total Train Loss 0.067002 | Total Test Loss 0.063050\n",
            "Epoch 0055 | Total Train Loss 0.062470 | Total Test Loss 0.060560\n",
            "Epoch 0056 | Total Train Loss 0.073318 | Total Test Loss 0.061282\n",
            "Epoch 0057 | Total Train Loss 0.069708 | Total Test Loss 0.059076\n",
            "Epoch 0058 | Total Train Loss 0.064918 | Total Test Loss 0.089093\n",
            "Epoch 0059 | Total Train Loss 0.067979 | Total Test Loss 0.067762\n",
            "Epoch 0060 | Total Train Loss 0.064852 | Total Test Loss 0.066486\n",
            "Epoch 0061 | Total Train Loss 0.075950 | Total Test Loss 0.103338\n",
            "Epoch 0062 | Total Train Loss 0.083129 | Total Test Loss 0.064931\n",
            "Epoch 0063 | Total Train Loss 0.070356 | Total Test Loss 0.072288\n",
            "Epoch 0064 | Total Train Loss 0.077518 | Total Test Loss 0.073203\n",
            "Epoch 0065 | Total Train Loss 0.091352 | Total Test Loss 0.083047\n",
            "Epoch 0066 | Total Train Loss 0.073032 | Total Test Loss 0.105654\n",
            "Epoch 0067 | Total Train Loss 0.073718 | Total Test Loss 0.072688\n",
            "Epoch 0068 | Total Train Loss 0.064338 | Total Test Loss 0.062351\n",
            "Epoch 0069 | Total Train Loss 0.065592 | Total Test Loss 0.061589\n",
            "Epoch 0070 | Total Train Loss 0.065253 | Total Test Loss 0.061819\n",
            "Epoch 0071 | Total Train Loss 0.072215 | Total Test Loss 0.084329\n",
            "Epoch 0072 | Total Train Loss 0.075120 | Total Test Loss 0.070460\n",
            "Epoch 0073 | Total Train Loss 0.080990 | Total Test Loss 0.083838\n",
            "Epoch 0074 | Total Train Loss 0.076916 | Total Test Loss 0.070930\n",
            "Epoch 0075 | Total Train Loss 0.066515 | Total Test Loss 0.069938\n",
            "Epoch 0076 | Total Train Loss 0.065612 | Total Test Loss 0.058280\n",
            "Epoch 0077 | Total Train Loss 0.062919 | Total Test Loss 0.076159\n",
            "Epoch 0078 | Total Train Loss 0.067307 | Total Test Loss 0.068618\n",
            "Epoch 0079 | Total Train Loss 0.063560 | Total Test Loss 0.056964\n",
            "Epoch 0080 | Total Train Loss 0.071952 | Total Test Loss 0.080384\n",
            "Epoch 0081 | Total Train Loss 0.094317 | Total Test Loss 0.072846\n",
            "Epoch 0082 | Total Train Loss 0.072156 | Total Test Loss 0.069226\n",
            "Epoch 0083 | Total Train Loss 0.070097 | Total Test Loss 0.063161\n",
            "Epoch 0084 | Total Train Loss 0.066826 | Total Test Loss 0.069556\n",
            "Epoch 0085 | Total Train Loss 0.065434 | Total Test Loss 0.060269\n",
            "Epoch 0086 | Total Train Loss 0.066308 | Total Test Loss 0.060887\n",
            "Epoch 0087 | Total Train Loss 0.066050 | Total Test Loss 0.064885\n",
            "Epoch 0088 | Total Train Loss 0.062168 | Total Test Loss 0.077765\n",
            "Epoch 0089 | Total Train Loss 0.062253 | Total Test Loss 0.056348\n",
            "Epoch 0090 | Total Train Loss 0.060501 | Total Test Loss 0.054168\n",
            "Epoch 0091 | Total Train Loss 0.066705 | Total Test Loss 0.056364\n",
            "Epoch 0092 | Total Train Loss 0.059274 | Total Test Loss 0.058817\n",
            "Epoch 0093 | Total Train Loss 0.058643 | Total Test Loss 0.054829\n",
            "Epoch 0094 | Total Train Loss 0.056050 | Total Test Loss 0.057873\n",
            "Epoch 0095 | Total Train Loss 0.061783 | Total Test Loss 0.094549\n",
            "Epoch 0096 | Total Train Loss 0.083113 | Total Test Loss 0.081182\n",
            "Epoch 0097 | Total Train Loss 0.084815 | Total Test Loss 0.081372\n",
            "Epoch 0098 | Total Train Loss 0.072085 | Total Test Loss 0.062632\n",
            "Epoch 0099 | Total Train Loss 0.060444 | Total Test Loss 0.056745\n",
            "Epoch 0100 | Total Train Loss 0.054330 | Total Test Loss 0.052974\n",
            "Epoch 0101 | Total Train Loss 0.054712 | Total Test Loss 0.053851\n",
            "Epoch 0102 | Total Train Loss 0.052417 | Total Test Loss 0.051828\n",
            "Epoch 0103 | Total Train Loss 0.051915 | Total Test Loss 0.052440\n",
            "Epoch 0104 | Total Train Loss 0.052530 | Total Test Loss 0.053836\n",
            "Epoch 0105 | Total Train Loss 0.051756 | Total Test Loss 0.050979\n",
            "Epoch 0106 | Total Train Loss 0.052663 | Total Test Loss 0.050433\n",
            "Epoch 0107 | Total Train Loss 0.051950 | Total Test Loss 0.051409\n",
            "Epoch 0108 | Total Train Loss 0.051099 | Total Test Loss 0.050255\n",
            "Epoch 0109 | Total Train Loss 0.051130 | Total Test Loss 0.053882\n",
            "Epoch 0110 | Total Train Loss 0.049773 | Total Test Loss 0.051416\n",
            "Epoch 0111 | Total Train Loss 0.050592 | Total Test Loss 0.051513\n",
            "Epoch 0112 | Total Train Loss 0.050531 | Total Test Loss 0.051918\n",
            "Epoch 0113 | Total Train Loss 0.050928 | Total Test Loss 0.051742\n",
            "Epoch 0114 | Total Train Loss 0.052010 | Total Test Loss 0.054379\n",
            "Epoch 0115 | Total Train Loss 0.051873 | Total Test Loss 0.063885\n",
            "Epoch 0116 | Total Train Loss 0.057763 | Total Test Loss 0.055101\n",
            "Epoch 0117 | Total Train Loss 0.052494 | Total Test Loss 0.053255\n",
            "Epoch 0118 | Total Train Loss 0.052962 | Total Test Loss 0.052106\n",
            "Epoch 0119 | Total Train Loss 0.053149 | Total Test Loss 0.050577\n",
            "Epoch 0120 | Total Train Loss 0.050326 | Total Test Loss 0.051827\n",
            "Epoch 0121 | Total Train Loss 0.050326 | Total Test Loss 0.050870\n",
            "Epoch 0122 | Total Train Loss 0.048418 | Total Test Loss 0.052759\n",
            "Epoch 0123 | Total Train Loss 0.049862 | Total Test Loss 0.049253\n",
            "Epoch 0124 | Total Train Loss 0.049520 | Total Test Loss 0.056146\n",
            "Epoch 0125 | Total Train Loss 0.050471 | Total Test Loss 0.050153\n",
            "Epoch 0126 | Total Train Loss 0.048744 | Total Test Loss 0.051110\n",
            "Epoch 0127 | Total Train Loss 0.048298 | Total Test Loss 0.048511\n",
            "Epoch 0128 | Total Train Loss 0.048871 | Total Test Loss 0.048990\n",
            "Epoch 0129 | Total Train Loss 0.048441 | Total Test Loss 0.050167\n",
            "Epoch 0130 | Total Train Loss 0.048909 | Total Test Loss 0.051705\n",
            "Epoch 0131 | Total Train Loss 0.048619 | Total Test Loss 0.051538\n",
            "Epoch 0132 | Total Train Loss 0.048632 | Total Test Loss 0.049506\n",
            "Epoch 0133 | Total Train Loss 0.047199 | Total Test Loss 0.050803\n",
            "Epoch 0134 | Total Train Loss 0.047992 | Total Test Loss 0.049686\n",
            "Epoch 0135 | Total Train Loss 0.048641 | Total Test Loss 0.047533\n",
            "Epoch 0136 | Total Train Loss 0.047346 | Total Test Loss 0.048291\n",
            "Epoch 0137 | Total Train Loss 0.047991 | Total Test Loss 0.050440\n",
            "Epoch 0138 | Total Train Loss 0.047187 | Total Test Loss 0.051481\n",
            "Epoch 0139 | Total Train Loss 0.047691 | Total Test Loss 0.050595\n",
            "Epoch 0140 | Total Train Loss 0.047937 | Total Test Loss 0.048812\n",
            "Epoch 0141 | Total Train Loss 0.049245 | Total Test Loss 0.055879\n",
            "Epoch 0142 | Total Train Loss 0.052838 | Total Test Loss 0.053487\n",
            "Epoch 0143 | Total Train Loss 0.050401 | Total Test Loss 0.048465\n",
            "Epoch 0144 | Total Train Loss 0.049766 | Total Test Loss 0.048984\n",
            "Epoch 0145 | Total Train Loss 0.047504 | Total Test Loss 0.048142\n",
            "Epoch 0146 | Total Train Loss 0.047230 | Total Test Loss 0.050262\n",
            "Epoch 0147 | Total Train Loss 0.048087 | Total Test Loss 0.051791\n",
            "Epoch 0148 | Total Train Loss 0.048438 | Total Test Loss 0.047666\n",
            "Epoch 0149 | Total Train Loss 0.047348 | Total Test Loss 0.048120\n",
            "Epoch 0150 | Total Train Loss 0.047780 | Total Test Loss 0.048016\n",
            "Epoch 0151 | Total Train Loss 0.051124 | Total Test Loss 0.055893\n",
            "Epoch 0152 | Total Train Loss 0.054062 | Total Test Loss 0.053724\n",
            "Epoch 0153 | Total Train Loss 0.050822 | Total Test Loss 0.055508\n",
            "Epoch 0154 | Total Train Loss 0.048866 | Total Test Loss 0.053542\n",
            "Epoch 0155 | Total Train Loss 0.047459 | Total Test Loss 0.049794\n",
            "Epoch 0156 | Total Train Loss 0.047644 | Total Test Loss 0.048672\n",
            "Epoch 0157 | Total Train Loss 0.049232 | Total Test Loss 0.051797\n",
            "Epoch 0158 | Total Train Loss 0.052895 | Total Test Loss 0.049845\n",
            "Epoch 0159 | Total Train Loss 0.048890 | Total Test Loss 0.050146\n",
            "Epoch 0160 | Total Train Loss 0.048427 | Total Test Loss 0.048369\n",
            "Epoch 0161 | Total Train Loss 0.049532 | Total Test Loss 0.049010\n",
            "Epoch 0162 | Total Train Loss 0.047937 | Total Test Loss 0.049692\n",
            "Epoch 0163 | Total Train Loss 0.046224 | Total Test Loss 0.047637\n",
            "Epoch 0164 | Total Train Loss 0.046197 | Total Test Loss 0.047193\n",
            "Epoch 0165 | Total Train Loss 0.047277 | Total Test Loss 0.047813\n",
            "Epoch 0166 | Total Train Loss 0.048720 | Total Test Loss 0.056568\n",
            "Epoch 0167 | Total Train Loss 0.061437 | Total Test Loss 0.065160\n",
            "Epoch 0168 | Total Train Loss 0.076852 | Total Test Loss 0.069308\n",
            "Epoch 0169 | Total Train Loss 0.063811 | Total Test Loss 0.059404\n",
            "Epoch 0170 | Total Train Loss 0.056153 | Total Test Loss 0.056792\n",
            "Epoch 0171 | Total Train Loss 0.052108 | Total Test Loss 0.055259\n",
            "Epoch 0172 | Total Train Loss 0.052866 | Total Test Loss 0.053133\n",
            "Epoch 0173 | Total Train Loss 0.051913 | Total Test Loss 0.051774\n",
            "Epoch 0174 | Total Train Loss 0.050170 | Total Test Loss 0.051980\n",
            "Epoch 0175 | Total Train Loss 0.048633 | Total Test Loss 0.049373\n",
            "Epoch 0176 | Total Train Loss 0.048633 | Total Test Loss 0.053519\n",
            "Epoch 0177 | Total Train Loss 0.049296 | Total Test Loss 0.047984\n",
            "Epoch 0178 | Total Train Loss 0.047246 | Total Test Loss 0.048732\n",
            "Epoch 0179 | Total Train Loss 0.047926 | Total Test Loss 0.047718\n",
            "Epoch 0180 | Total Train Loss 0.046103 | Total Test Loss 0.050585\n",
            "Epoch 0181 | Total Train Loss 0.046995 | Total Test Loss 0.051170\n",
            "Epoch 0182 | Total Train Loss 0.046023 | Total Test Loss 0.046605\n",
            "Epoch 0183 | Total Train Loss 0.046661 | Total Test Loss 0.046651\n",
            "Epoch 0184 | Total Train Loss 0.045906 | Total Test Loss 0.046888\n",
            "Epoch 0185 | Total Train Loss 0.045957 | Total Test Loss 0.046706\n",
            "Epoch 0186 | Total Train Loss 0.046765 | Total Test Loss 0.054877\n",
            "Epoch 0187 | Total Train Loss 0.045245 | Total Test Loss 0.047972\n",
            "Epoch 0188 | Total Train Loss 0.046307 | Total Test Loss 0.049967\n",
            "Epoch 0189 | Total Train Loss 0.045481 | Total Test Loss 0.047239\n",
            "Epoch 0190 | Total Train Loss 0.046999 | Total Test Loss 0.047548\n",
            "Epoch 0191 | Total Train Loss 0.044923 | Total Test Loss 0.046693\n",
            "Epoch 0192 | Total Train Loss 0.048566 | Total Test Loss 0.049699\n",
            "Epoch 0193 | Total Train Loss 0.049156 | Total Test Loss 0.046281\n",
            "Epoch 0194 | Total Train Loss 0.051014 | Total Test Loss 0.056569\n",
            "Epoch 0195 | Total Train Loss 0.058403 | Total Test Loss 0.059950\n",
            "Epoch 0196 | Total Train Loss 0.063115 | Total Test Loss 0.071586\n",
            "Epoch 0197 | Total Train Loss 0.078319 | Total Test Loss 0.072785\n",
            "Epoch 0198 | Total Train Loss 0.056718 | Total Test Loss 0.057821\n",
            "Epoch 0199 | Total Train Loss 0.054137 | Total Test Loss 0.056405\n",
            "Epoch 0200 | Total Train Loss 0.048654 | Total Test Loss 0.048732\n",
            "Epoch 0201 | Total Train Loss 0.045962 | Total Test Loss 0.047269\n",
            "Epoch 0202 | Total Train Loss 0.044816 | Total Test Loss 0.046174\n",
            "Epoch 0203 | Total Train Loss 0.044093 | Total Test Loss 0.045590\n",
            "Epoch 0204 | Total Train Loss 0.044855 | Total Test Loss 0.045222\n",
            "Epoch 0205 | Total Train Loss 0.044168 | Total Test Loss 0.046572\n",
            "Epoch 0206 | Total Train Loss 0.044365 | Total Test Loss 0.045714\n",
            "Epoch 0207 | Total Train Loss 0.043778 | Total Test Loss 0.045011\n",
            "Epoch 0208 | Total Train Loss 0.044482 | Total Test Loss 0.046203\n",
            "Epoch 0209 | Total Train Loss 0.043735 | Total Test Loss 0.045324\n",
            "Epoch 0210 | Total Train Loss 0.043923 | Total Test Loss 0.045567\n",
            "Epoch 0211 | Total Train Loss 0.043490 | Total Test Loss 0.045581\n",
            "Epoch 0212 | Total Train Loss 0.043798 | Total Test Loss 0.045040\n",
            "Epoch 0213 | Total Train Loss 0.043364 | Total Test Loss 0.044762\n",
            "Epoch 0214 | Total Train Loss 0.043889 | Total Test Loss 0.046207\n",
            "Epoch 0215 | Total Train Loss 0.043570 | Total Test Loss 0.045168\n",
            "Epoch 0216 | Total Train Loss 0.043641 | Total Test Loss 0.045598\n",
            "Epoch 0217 | Total Train Loss 0.044130 | Total Test Loss 0.044939\n",
            "Epoch 0218 | Total Train Loss 0.043384 | Total Test Loss 0.044753\n",
            "Epoch 0219 | Total Train Loss 0.043598 | Total Test Loss 0.045100\n",
            "Epoch 0220 | Total Train Loss 0.042935 | Total Test Loss 0.045105\n",
            "Epoch 0221 | Total Train Loss 0.042911 | Total Test Loss 0.046098\n",
            "Epoch 0222 | Total Train Loss 0.043511 | Total Test Loss 0.046018\n",
            "Epoch 0223 | Total Train Loss 0.043621 | Total Test Loss 0.046472\n",
            "Epoch 0224 | Total Train Loss 0.045649 | Total Test Loss 0.046090\n",
            "Epoch 0225 | Total Train Loss 0.044149 | Total Test Loss 0.045589\n",
            "Epoch 0226 | Total Train Loss 0.044754 | Total Test Loss 0.054348\n",
            "Epoch 0227 | Total Train Loss 0.045493 | Total Test Loss 0.046392\n",
            "Epoch 0228 | Total Train Loss 0.043401 | Total Test Loss 0.044911\n",
            "Epoch 0229 | Total Train Loss 0.043617 | Total Test Loss 0.044542\n",
            "Epoch 0230 | Total Train Loss 0.043376 | Total Test Loss 0.047675\n",
            "Epoch 0231 | Total Train Loss 0.043251 | Total Test Loss 0.044682\n",
            "Epoch 0232 | Total Train Loss 0.043044 | Total Test Loss 0.044670\n",
            "Epoch 0233 | Total Train Loss 0.042962 | Total Test Loss 0.044954\n",
            "Epoch 0234 | Total Train Loss 0.043184 | Total Test Loss 0.045143\n",
            "Epoch 0235 | Total Train Loss 0.042878 | Total Test Loss 0.045445\n",
            "Epoch 0236 | Total Train Loss 0.042343 | Total Test Loss 0.044157\n",
            "Epoch 0237 | Total Train Loss 0.042780 | Total Test Loss 0.045580\n",
            "Epoch 0238 | Total Train Loss 0.042552 | Total Test Loss 0.044776\n",
            "Epoch 0239 | Total Train Loss 0.042327 | Total Test Loss 0.044349\n",
            "Epoch 0240 | Total Train Loss 0.043193 | Total Test Loss 0.044199\n",
            "Epoch 0241 | Total Train Loss 0.042194 | Total Test Loss 0.044694\n",
            "Epoch 0242 | Total Train Loss 0.042081 | Total Test Loss 0.043879\n",
            "Epoch 0243 | Total Train Loss 0.041974 | Total Test Loss 0.043933\n",
            "Epoch 0244 | Total Train Loss 0.042847 | Total Test Loss 0.044033\n",
            "Epoch 0245 | Total Train Loss 0.042403 | Total Test Loss 0.047197\n",
            "Epoch 0246 | Total Train Loss 0.042506 | Total Test Loss 0.043975\n",
            "Epoch 0247 | Total Train Loss 0.042076 | Total Test Loss 0.044245\n",
            "Epoch 0248 | Total Train Loss 0.042099 | Total Test Loss 0.044141\n",
            "Epoch 0249 | Total Train Loss 0.042294 | Total Test Loss 0.044576\n",
            "Epoch 0250 | Total Train Loss 0.041757 | Total Test Loss 0.044836\n",
            "Epoch 0251 | Total Train Loss 0.042499 | Total Test Loss 0.044931\n",
            "Epoch 0252 | Total Train Loss 0.041910 | Total Test Loss 0.044841\n",
            "Epoch 0253 | Total Train Loss 0.042483 | Total Test Loss 0.045330\n",
            "Epoch 0254 | Total Train Loss 0.042035 | Total Test Loss 0.044273\n",
            "Epoch 0255 | Total Train Loss 0.042403 | Total Test Loss 0.043972\n",
            "Epoch 0256 | Total Train Loss 0.042654 | Total Test Loss 0.044556\n",
            "Epoch 0257 | Total Train Loss 0.042078 | Total Test Loss 0.044277\n",
            "Epoch 0258 | Total Train Loss 0.042352 | Total Test Loss 0.043546\n",
            "Epoch 0259 | Total Train Loss 0.041905 | Total Test Loss 0.046094\n",
            "Epoch 0260 | Total Train Loss 0.044221 | Total Test Loss 0.044780\n",
            "Epoch 0261 | Total Train Loss 0.043740 | Total Test Loss 0.044287\n",
            "Epoch 0262 | Total Train Loss 0.041669 | Total Test Loss 0.044930\n",
            "Epoch 0263 | Total Train Loss 0.042266 | Total Test Loss 0.046240\n",
            "Epoch 0264 | Total Train Loss 0.041915 | Total Test Loss 0.044812\n",
            "Epoch 0265 | Total Train Loss 0.043546 | Total Test Loss 0.043915\n",
            "Epoch 0266 | Total Train Loss 0.041860 | Total Test Loss 0.043472\n",
            "Epoch 0267 | Total Train Loss 0.041979 | Total Test Loss 0.044557\n",
            "Epoch 0268 | Total Train Loss 0.041470 | Total Test Loss 0.045996\n",
            "Epoch 0269 | Total Train Loss 0.041819 | Total Test Loss 0.043287\n",
            "Epoch 0270 | Total Train Loss 0.041499 | Total Test Loss 0.043217\n",
            "Epoch 0271 | Total Train Loss 0.041900 | Total Test Loss 0.043230\n",
            "Epoch 0272 | Total Train Loss 0.041517 | Total Test Loss 0.045182\n",
            "Epoch 0273 | Total Train Loss 0.041218 | Total Test Loss 0.042809\n",
            "Epoch 0274 | Total Train Loss 0.041087 | Total Test Loss 0.043042\n",
            "Epoch 0275 | Total Train Loss 0.041693 | Total Test Loss 0.043163\n",
            "Epoch 0276 | Total Train Loss 0.042829 | Total Test Loss 0.046216\n",
            "Epoch 0277 | Total Train Loss 0.042948 | Total Test Loss 0.044299\n",
            "Epoch 0278 | Total Train Loss 0.043798 | Total Test Loss 0.046977\n",
            "Epoch 0279 | Total Train Loss 0.043515 | Total Test Loss 0.045826\n",
            "Epoch 0280 | Total Train Loss 0.045731 | Total Test Loss 0.048648\n",
            "Epoch 0281 | Total Train Loss 0.045501 | Total Test Loss 0.046213\n",
            "Epoch 0282 | Total Train Loss 0.042849 | Total Test Loss 0.043962\n",
            "Epoch 0283 | Total Train Loss 0.041897 | Total Test Loss 0.044216\n",
            "Epoch 0284 | Total Train Loss 0.041576 | Total Test Loss 0.043903\n",
            "Epoch 0285 | Total Train Loss 0.041756 | Total Test Loss 0.043475\n",
            "Epoch 0286 | Total Train Loss 0.041268 | Total Test Loss 0.043502\n",
            "Epoch 0287 | Total Train Loss 0.042403 | Total Test Loss 0.043138\n",
            "Epoch 0288 | Total Train Loss 0.042553 | Total Test Loss 0.048824\n",
            "Epoch 0289 | Total Train Loss 0.046025 | Total Test Loss 0.050312\n",
            "Epoch 0290 | Total Train Loss 0.044000 | Total Test Loss 0.044861\n",
            "Epoch 0291 | Total Train Loss 0.042958 | Total Test Loss 0.042830\n",
            "Epoch 0292 | Total Train Loss 0.041819 | Total Test Loss 0.049206\n",
            "Epoch 0293 | Total Train Loss 0.041985 | Total Test Loss 0.044269\n",
            "Epoch 0294 | Total Train Loss 0.041255 | Total Test Loss 0.042656\n",
            "Epoch 0295 | Total Train Loss 0.041342 | Total Test Loss 0.043400\n",
            "Epoch 0296 | Total Train Loss 0.041398 | Total Test Loss 0.044545\n",
            "Epoch 0297 | Total Train Loss 0.041311 | Total Test Loss 0.042850\n",
            "Epoch 0298 | Total Train Loss 0.041060 | Total Test Loss 0.042741\n",
            "Epoch 0299 | Total Train Loss 0.040876 | Total Test Loss 0.045678\n",
            "Epoch 0300 | Total Train Loss 0.040905 | Total Test Loss 0.043631\n",
            "Epoch 0301 | Total Train Loss 0.040404 | Total Test Loss 0.043590\n",
            "Epoch 0302 | Total Train Loss 0.039792 | Total Test Loss 0.042537\n",
            "Epoch 0303 | Total Train Loss 0.039683 | Total Test Loss 0.042087\n",
            "Epoch 0304 | Total Train Loss 0.039619 | Total Test Loss 0.042593\n",
            "Epoch 0305 | Total Train Loss 0.039900 | Total Test Loss 0.042022\n",
            "Epoch 0306 | Total Train Loss 0.040049 | Total Test Loss 0.043337\n",
            "Epoch 0307 | Total Train Loss 0.039655 | Total Test Loss 0.042400\n",
            "Epoch 0308 | Total Train Loss 0.039913 | Total Test Loss 0.042340\n",
            "Epoch 0309 | Total Train Loss 0.039832 | Total Test Loss 0.042133\n",
            "Epoch 0310 | Total Train Loss 0.040018 | Total Test Loss 0.042112\n",
            "Epoch 0311 | Total Train Loss 0.039826 | Total Test Loss 0.042917\n",
            "Epoch 0312 | Total Train Loss 0.039396 | Total Test Loss 0.041788\n",
            "Epoch 0313 | Total Train Loss 0.039957 | Total Test Loss 0.042488\n",
            "Epoch 0314 | Total Train Loss 0.039611 | Total Test Loss 0.043810\n",
            "Epoch 0315 | Total Train Loss 0.039740 | Total Test Loss 0.041855\n",
            "Epoch 0316 | Total Train Loss 0.039401 | Total Test Loss 0.043076\n",
            "Epoch 0317 | Total Train Loss 0.039703 | Total Test Loss 0.042280\n",
            "Epoch 0318 | Total Train Loss 0.039546 | Total Test Loss 0.041878\n",
            "Epoch 0319 | Total Train Loss 0.039927 | Total Test Loss 0.044139\n",
            "Epoch 0320 | Total Train Loss 0.039863 | Total Test Loss 0.041548\n",
            "Epoch 0321 | Total Train Loss 0.039730 | Total Test Loss 0.041484\n",
            "Epoch 0322 | Total Train Loss 0.039630 | Total Test Loss 0.041654\n",
            "Epoch 0323 | Total Train Loss 0.039460 | Total Test Loss 0.042100\n",
            "Epoch 0324 | Total Train Loss 0.039416 | Total Test Loss 0.041957\n",
            "Epoch 0325 | Total Train Loss 0.039549 | Total Test Loss 0.042826\n",
            "Epoch 0326 | Total Train Loss 0.039273 | Total Test Loss 0.042293\n",
            "Epoch 0327 | Total Train Loss 0.039465 | Total Test Loss 0.042168\n",
            "Epoch 0328 | Total Train Loss 0.039275 | Total Test Loss 0.042254\n",
            "Epoch 0329 | Total Train Loss 0.039723 | Total Test Loss 0.041715\n",
            "Epoch 0330 | Total Train Loss 0.039232 | Total Test Loss 0.041778\n",
            "Epoch 0331 | Total Train Loss 0.039413 | Total Test Loss 0.041416\n",
            "Epoch 0332 | Total Train Loss 0.039202 | Total Test Loss 0.041543\n",
            "Epoch 0333 | Total Train Loss 0.039565 | Total Test Loss 0.043254\n",
            "Epoch 0334 | Total Train Loss 0.039615 | Total Test Loss 0.044281\n",
            "Epoch 0335 | Total Train Loss 0.039246 | Total Test Loss 0.041382\n",
            "Epoch 0336 | Total Train Loss 0.039622 | Total Test Loss 0.042281\n",
            "Epoch 0337 | Total Train Loss 0.039202 | Total Test Loss 0.041324\n",
            "Epoch 0338 | Total Train Loss 0.039046 | Total Test Loss 0.041605\n",
            "Epoch 0339 | Total Train Loss 0.039523 | Total Test Loss 0.041813\n",
            "Epoch 0340 | Total Train Loss 0.039568 | Total Test Loss 0.041874\n",
            "Epoch 0341 | Total Train Loss 0.039792 | Total Test Loss 0.042825\n",
            "Epoch 0342 | Total Train Loss 0.039746 | Total Test Loss 0.041413\n",
            "Epoch 0343 | Total Train Loss 0.039315 | Total Test Loss 0.041666\n",
            "Epoch 0344 | Total Train Loss 0.039399 | Total Test Loss 0.041243\n",
            "Epoch 0345 | Total Train Loss 0.039165 | Total Test Loss 0.041850\n",
            "Epoch 0346 | Total Train Loss 0.039082 | Total Test Loss 0.042243\n",
            "Epoch 0347 | Total Train Loss 0.039401 | Total Test Loss 0.041146\n",
            "Epoch 0348 | Total Train Loss 0.039154 | Total Test Loss 0.043335\n",
            "Epoch 0349 | Total Train Loss 0.039432 | Total Test Loss 0.042086\n",
            "Epoch 0350 | Total Train Loss 0.038843 | Total Test Loss 0.041725\n",
            "Epoch 0351 | Total Train Loss 0.039063 | Total Test Loss 0.041403\n",
            "Epoch 0352 | Total Train Loss 0.039605 | Total Test Loss 0.041998\n",
            "Epoch 0353 | Total Train Loss 0.039481 | Total Test Loss 0.041299\n",
            "Epoch 0354 | Total Train Loss 0.039185 | Total Test Loss 0.041423\n",
            "Epoch 0355 | Total Train Loss 0.039117 | Total Test Loss 0.041172\n",
            "Epoch 0356 | Total Train Loss 0.038943 | Total Test Loss 0.041019\n",
            "Epoch 0357 | Total Train Loss 0.039101 | Total Test Loss 0.041054\n",
            "Epoch 0358 | Total Train Loss 0.039135 | Total Test Loss 0.040990\n",
            "Epoch 0359 | Total Train Loss 0.039023 | Total Test Loss 0.041456\n",
            "Epoch 0360 | Total Train Loss 0.038980 | Total Test Loss 0.041340\n",
            "Epoch 0361 | Total Train Loss 0.038917 | Total Test Loss 0.041376\n",
            "Epoch 0362 | Total Train Loss 0.039071 | Total Test Loss 0.041053\n",
            "Epoch 0363 | Total Train Loss 0.038720 | Total Test Loss 0.041664\n",
            "Epoch 0364 | Total Train Loss 0.038844 | Total Test Loss 0.041899\n",
            "Epoch 0365 | Total Train Loss 0.039578 | Total Test Loss 0.041799\n",
            "Epoch 0366 | Total Train Loss 0.039288 | Total Test Loss 0.041675\n",
            "Epoch 0367 | Total Train Loss 0.038842 | Total Test Loss 0.041156\n",
            "Epoch 0368 | Total Train Loss 0.038979 | Total Test Loss 0.040694\n",
            "Epoch 0369 | Total Train Loss 0.038564 | Total Test Loss 0.040931\n",
            "Epoch 0370 | Total Train Loss 0.038534 | Total Test Loss 0.044918\n",
            "Epoch 0371 | Total Train Loss 0.039123 | Total Test Loss 0.041279\n",
            "Epoch 0372 | Total Train Loss 0.038784 | Total Test Loss 0.040515\n",
            "Epoch 0373 | Total Train Loss 0.038622 | Total Test Loss 0.041188\n",
            "Epoch 0374 | Total Train Loss 0.038934 | Total Test Loss 0.040589\n",
            "Epoch 0375 | Total Train Loss 0.039306 | Total Test Loss 0.040944\n",
            "Epoch 0376 | Total Train Loss 0.038834 | Total Test Loss 0.044310\n",
            "Epoch 0377 | Total Train Loss 0.038908 | Total Test Loss 0.041873\n",
            "Epoch 0378 | Total Train Loss 0.038843 | Total Test Loss 0.042420\n",
            "Epoch 0379 | Total Train Loss 0.038641 | Total Test Loss 0.041081\n",
            "Epoch 0380 | Total Train Loss 0.038967 | Total Test Loss 0.040606\n",
            "Epoch 0381 | Total Train Loss 0.038600 | Total Test Loss 0.041372\n",
            "Epoch 0382 | Total Train Loss 0.038626 | Total Test Loss 0.040713\n",
            "Epoch 0383 | Total Train Loss 0.038465 | Total Test Loss 0.041026\n",
            "Epoch 0384 | Total Train Loss 0.038237 | Total Test Loss 0.040847\n",
            "Epoch 0385 | Total Train Loss 0.038443 | Total Test Loss 0.041534\n",
            "Epoch 0386 | Total Train Loss 0.038738 | Total Test Loss 0.040633\n",
            "Epoch 0387 | Total Train Loss 0.038253 | Total Test Loss 0.040555\n",
            "Epoch 0388 | Total Train Loss 0.038798 | Total Test Loss 0.042300\n",
            "Epoch 0389 | Total Train Loss 0.038606 | Total Test Loss 0.040274\n",
            "Epoch 0390 | Total Train Loss 0.039118 | Total Test Loss 0.041182\n",
            "Epoch 0391 | Total Train Loss 0.038189 | Total Test Loss 0.040883\n",
            "Epoch 0392 | Total Train Loss 0.038433 | Total Test Loss 0.040365\n",
            "Epoch 0393 | Total Train Loss 0.038462 | Total Test Loss 0.040443\n",
            "Epoch 0394 | Total Train Loss 0.038175 | Total Test Loss 0.040240\n",
            "Epoch 0395 | Total Train Loss 0.038326 | Total Test Loss 0.040468\n",
            "Epoch 0396 | Total Train Loss 0.038264 | Total Test Loss 0.042900\n",
            "Epoch 0397 | Total Train Loss 0.038192 | Total Test Loss 0.041042\n",
            "Epoch 0398 | Total Train Loss 0.038632 | Total Test Loss 0.041070\n",
            "Epoch 0399 | Total Train Loss 0.038791 | Total Test Loss 0.042003\n",
            "Epoch 0400 | Total Train Loss 0.037924 | Total Test Loss 0.040513\n",
            "Epoch 0401 | Total Train Loss 0.037835 | Total Test Loss 0.040205\n",
            "Epoch 0402 | Total Train Loss 0.037738 | Total Test Loss 0.040348\n",
            "Epoch 0403 | Total Train Loss 0.037685 | Total Test Loss 0.040210\n",
            "Epoch 0404 | Total Train Loss 0.037695 | Total Test Loss 0.041115\n",
            "Epoch 0405 | Total Train Loss 0.037708 | Total Test Loss 0.040211\n",
            "Epoch 0406 | Total Train Loss 0.037810 | Total Test Loss 0.040204\n",
            "Epoch 0407 | Total Train Loss 0.038127 | Total Test Loss 0.039998\n",
            "Epoch 0408 | Total Train Loss 0.037827 | Total Test Loss 0.040165\n",
            "Epoch 0409 | Total Train Loss 0.037643 | Total Test Loss 0.040163\n",
            "Epoch 0410 | Total Train Loss 0.037863 | Total Test Loss 0.040021\n",
            "Epoch 0411 | Total Train Loss 0.037796 | Total Test Loss 0.040706\n",
            "Epoch 0412 | Total Train Loss 0.037742 | Total Test Loss 0.039950\n",
            "Epoch 0413 | Total Train Loss 0.037733 | Total Test Loss 0.040027\n",
            "Epoch 0414 | Total Train Loss 0.037854 | Total Test Loss 0.041237\n",
            "Epoch 0415 | Total Train Loss 0.037754 | Total Test Loss 0.040028\n",
            "Epoch 0416 | Total Train Loss 0.038030 | Total Test Loss 0.040251\n",
            "Epoch 0417 | Total Train Loss 0.037977 | Total Test Loss 0.040206\n",
            "Epoch 0418 | Total Train Loss 0.037756 | Total Test Loss 0.040717\n",
            "Epoch 0419 | Total Train Loss 0.037707 | Total Test Loss 0.040275\n",
            "Epoch 0420 | Total Train Loss 0.037534 | Total Test Loss 0.040059\n",
            "Epoch 0421 | Total Train Loss 0.037485 | Total Test Loss 0.040135\n",
            "Epoch 0422 | Total Train Loss 0.037583 | Total Test Loss 0.040283\n",
            "Epoch 0423 | Total Train Loss 0.037735 | Total Test Loss 0.040410\n",
            "Epoch 0424 | Total Train Loss 0.037709 | Total Test Loss 0.040264\n",
            "Epoch 0425 | Total Train Loss 0.037867 | Total Test Loss 0.040712\n",
            "Epoch 0426 | Total Train Loss 0.038093 | Total Test Loss 0.040538\n",
            "Epoch 0427 | Total Train Loss 0.038395 | Total Test Loss 0.040182\n",
            "Epoch 0428 | Total Train Loss 0.037645 | Total Test Loss 0.039877\n",
            "Epoch 0429 | Total Train Loss 0.037745 | Total Test Loss 0.040052\n",
            "Epoch 0430 | Total Train Loss 0.037606 | Total Test Loss 0.040145\n",
            "Epoch 0431 | Total Train Loss 0.037719 | Total Test Loss 0.039935\n",
            "Epoch 0432 | Total Train Loss 0.037537 | Total Test Loss 0.040623\n",
            "Epoch 0433 | Total Train Loss 0.037761 | Total Test Loss 0.039815\n",
            "Epoch 0434 | Total Train Loss 0.037486 | Total Test Loss 0.040936\n",
            "Epoch 0435 | Total Train Loss 0.037607 | Total Test Loss 0.040339\n",
            "Epoch 0436 | Total Train Loss 0.037552 | Total Test Loss 0.040448\n",
            "Epoch 0437 | Total Train Loss 0.037636 | Total Test Loss 0.039869\n",
            "Epoch 0438 | Total Train Loss 0.037671 | Total Test Loss 0.039787\n",
            "Epoch 0439 | Total Train Loss 0.037341 | Total Test Loss 0.040157\n",
            "Epoch 0440 | Total Train Loss 0.037809 | Total Test Loss 0.041115\n",
            "Epoch 0441 | Total Train Loss 0.037615 | Total Test Loss 0.039894\n",
            "Epoch 0442 | Total Train Loss 0.037453 | Total Test Loss 0.040558\n",
            "Epoch 0443 | Total Train Loss 0.038025 | Total Test Loss 0.040197\n",
            "Epoch 0444 | Total Train Loss 0.037948 | Total Test Loss 0.040152\n",
            "Epoch 0445 | Total Train Loss 0.038356 | Total Test Loss 0.039887\n",
            "Epoch 0446 | Total Train Loss 0.037663 | Total Test Loss 0.039787\n",
            "Epoch 0447 | Total Train Loss 0.037733 | Total Test Loss 0.040569\n",
            "Epoch 0448 | Total Train Loss 0.037495 | Total Test Loss 0.039714\n",
            "Epoch 0449 | Total Train Loss 0.037410 | Total Test Loss 0.039935\n",
            "Epoch 0450 | Total Train Loss 0.037351 | Total Test Loss 0.039639\n",
            "Epoch 0451 | Total Train Loss 0.037470 | Total Test Loss 0.039576\n",
            "Epoch 0452 | Total Train Loss 0.037465 | Total Test Loss 0.039667\n",
            "Epoch 0453 | Total Train Loss 0.037445 | Total Test Loss 0.040034\n",
            "Epoch 0454 | Total Train Loss 0.038110 | Total Test Loss 0.041157\n",
            "Epoch 0455 | Total Train Loss 0.037744 | Total Test Loss 0.041226\n",
            "Epoch 0456 | Total Train Loss 0.037608 | Total Test Loss 0.040256\n",
            "Epoch 0457 | Total Train Loss 0.037384 | Total Test Loss 0.039825\n",
            "Epoch 0458 | Total Train Loss 0.037380 | Total Test Loss 0.039745\n",
            "Epoch 0459 | Total Train Loss 0.038011 | Total Test Loss 0.039715\n",
            "Epoch 0460 | Total Train Loss 0.037222 | Total Test Loss 0.039814\n",
            "Epoch 0461 | Total Train Loss 0.037380 | Total Test Loss 0.039562\n",
            "Epoch 0462 | Total Train Loss 0.037259 | Total Test Loss 0.039856\n",
            "Epoch 0463 | Total Train Loss 0.037075 | Total Test Loss 0.039511\n",
            "Epoch 0464 | Total Train Loss 0.037157 | Total Test Loss 0.039606\n",
            "Epoch 0465 | Total Train Loss 0.037389 | Total Test Loss 0.039429\n",
            "Epoch 0466 | Total Train Loss 0.037118 | Total Test Loss 0.039555\n",
            "Epoch 0467 | Total Train Loss 0.037128 | Total Test Loss 0.039719\n",
            "Epoch 0468 | Total Train Loss 0.037281 | Total Test Loss 0.039744\n",
            "Epoch 0469 | Total Train Loss 0.037551 | Total Test Loss 0.039999\n",
            "Epoch 0470 | Total Train Loss 0.037255 | Total Test Loss 0.039270\n",
            "Epoch 0471 | Total Train Loss 0.037145 | Total Test Loss 0.039770\n",
            "Epoch 0472 | Total Train Loss 0.037346 | Total Test Loss 0.039570\n",
            "Epoch 0473 | Total Train Loss 0.037108 | Total Test Loss 0.039262\n",
            "Epoch 0474 | Total Train Loss 0.037221 | Total Test Loss 0.039462\n",
            "Epoch 0475 | Total Train Loss 0.037456 | Total Test Loss 0.040383\n",
            "Epoch 0476 | Total Train Loss 0.037198 | Total Test Loss 0.039401\n",
            "Epoch 0477 | Total Train Loss 0.037139 | Total Test Loss 0.039475\n",
            "Epoch 0478 | Total Train Loss 0.037186 | Total Test Loss 0.039771\n",
            "Epoch 0479 | Total Train Loss 0.037026 | Total Test Loss 0.039487\n",
            "Epoch 0480 | Total Train Loss 0.037300 | Total Test Loss 0.039572\n",
            "Epoch 0481 | Total Train Loss 0.037131 | Total Test Loss 0.039477\n",
            "Epoch 0482 | Total Train Loss 0.037115 | Total Test Loss 0.039595\n",
            "Epoch 0483 | Total Train Loss 0.037295 | Total Test Loss 0.040289\n",
            "Epoch 0484 | Total Train Loss 0.037434 | Total Test Loss 0.039802\n",
            "Epoch 0485 | Total Train Loss 0.036972 | Total Test Loss 0.039807\n",
            "Epoch 0486 | Total Train Loss 0.037214 | Total Test Loss 0.039716\n",
            "Epoch 0487 | Total Train Loss 0.037468 | Total Test Loss 0.039875\n",
            "Epoch 0488 | Total Train Loss 0.037221 | Total Test Loss 0.039616\n",
            "Epoch 0489 | Total Train Loss 0.037217 | Total Test Loss 0.039600\n",
            "Epoch 0490 | Total Train Loss 0.037161 | Total Test Loss 0.039283\n",
            "Epoch 0491 | Total Train Loss 0.036990 | Total Test Loss 0.039828\n",
            "Epoch 0492 | Total Train Loss 0.036934 | Total Test Loss 0.041260\n",
            "Epoch 0493 | Total Train Loss 0.037054 | Total Test Loss 0.040081\n",
            "Epoch 0494 | Total Train Loss 0.037073 | Total Test Loss 0.039173\n",
            "Epoch 0495 | Total Train Loss 0.037123 | Total Test Loss 0.039241\n",
            "Epoch 0496 | Total Train Loss 0.036880 | Total Test Loss 0.039077\n",
            "Epoch 0497 | Total Train Loss 0.036931 | Total Test Loss 0.039439\n",
            "Epoch 0498 | Total Train Loss 0.037072 | Total Test Loss 0.039240\n",
            "Epoch 0499 | Total Train Loss 0.036968 | Total Test Loss 0.040271\n"
          ]
        }
      ]
    },
    {
      "cell_type": "markdown",
      "metadata": {
        "id": "oZm2b1IiqDvg"
      },
      "source": [
        "**Visualize results**"
      ]
    },
    {
      "cell_type": "code",
      "metadata": {
        "colab": {
          "base_uri": "https://localhost:8080/",
          "height": 265
        },
        "id": "NbMU0otp34zB",
        "outputId": "b192c131-5141-4cf8-aaee-90eff68dba2f"
      },
      "source": [
        "plt.plot(losses_train,label='train')\n",
        "plt.plot(losses_test,label='test')\n",
        "plt.legend()\n",
        "plt.show()"
      ],
      "execution_count": 30,
      "outputs": [
        {
          "output_type": "display_data",
          "data": {
            "image/png": "[encoded data removed]",
            "text/plain": [
              "<Figure size 432x288 with 1 Axes>"
            ]
          },
          "metadata": {
            "needs_background": "light"
          }
        }
      ]
    },
    {
      "cell_type": "code",
      "metadata": {
        "id": "SIExz_CbBgTN",
        "colab": {
          "base_uri": "https://localhost:8080/",
          "height": 233
        },
        "outputId": "bf0d2e2f-c6cb-4cb4-a475-564d7e90c66c"
      },
      "source": [
        "k = 5\n",
        "T_= 1\n",
        "\n",
        "# u0 = u0_train[k][None,...].to(device)\n",
        "# u = u_train[k][None,...].to(device) \n",
        "# xi = xi_train[k][None,...].to(device)\n",
        "u0 = u0_test[k][None,...].to(device)\n",
        "u = u_test[k][None,...].to(device) \n",
        "xi = xi_test[k][None,...].to(device)\n",
        "u_pred = model(u0,xi)\n",
        "\n",
        "# fig, ax = plt.subplots(1,T_+1,figsize=(25,3))\n",
        "fig = plt.figure(figsize=(10,3))\n",
        "plt.suptitle('Parabolic Additive Forcing', fontsize=16)\n",
        "\n",
        "# ax[0].plot(u0[0,0,...].detach().cpu().numpy())\n",
        "# ax[0].set_title('initial condition')\n",
        "\n",
        "# for i in range(T_):\n",
        "#   ax[i+1].plot(u[0,...,i].detach().cpu().numpy())\n",
        "#   ax[i+1].plot(u_pred[0,0,...,i].detach().cpu().numpy())\n",
        " # # ax[0][i+1].set_title(f'time step {i+1}')\n",
        "plt.plot(u[0].detach().cpu().numpy(),label='truth')\n",
        "plt.plot(u_pred[0,0,...,-1].detach().cpu().numpy(),label='prediction')\n",
        "plt.legend()\n",
        "# plt.tight_layout()\n",
        "plt.show()"
      ],
      "execution_count": 31,
      "outputs": [
        {
          "output_type": "display_data",
          "data": {
            "image/png": "[encoded data removed]",
            "text/plain": [
              "<Figure size 720x216 with 1 Axes>"
            ]
          },
          "metadata": {
            "needs_background": "light"
          }
        }
      ]
    },
    {
      "cell_type": "markdown",
      "metadata": {
        "id": "wSxfsx_eNv4S"
      },
      "source": [
        "#NFO"
      ]
    },
    {
      "cell_type": "code",
      "metadata": {
        "id": "K2ObO8HmKPQ3"
      },
      "source": [
        "u0_train = u0_train[:,0,:,None]\n",
        "u0_test = u0_test[:,0,:,None]\n",
        "\n",
        "train_loader = torch.utils.data.DataLoader(torch.utils.data.TensorDataset(u0_train, u_train), batch_size=batch_size, shuffle=True)\n",
        "test_loader = torch.utils.data.DataLoader(torch.utils.data.TensorDataset(u0_test, u_test), batch_size=batch_size, shuffle=False)"
      ],
      "execution_count": 6,
      "outputs": []
    },
    {
      "cell_type": "code",
      "metadata": {
        "colab": {
          "base_uri": "https://localhost:8080/"
        },
        "id": "KZ4y2CszNy7Y",
        "outputId": "1f1b3d10-1b4a-40f9-a3d2-60734904d168"
      },
      "source": [
        "# model = NeuralFixedPoint(modes1=16, modes2=16, modes3=8, in_channels=1, hidden_channels=64, forcing_channels=1, out_channels=1, T=T, n_iter=4).cuda()\n",
        "model = FNO1d(modes=24, width=64).cuda()\n",
        "print(count_params(model))\n",
        "\n",
        "optimizer = torch.optim.Adam(model.parameters(), lr=0.001, weight_decay=1e-4)\n",
        "scheduler = torch.optim.lr_scheduler.StepLR(optimizer, step_size=100, gamma=0.5)"
      ],
      "execution_count": 18,
      "outputs": [
        {
          "output_type": "stream",
          "name": "stdout",
          "text": [
            "418497\n"
          ]
        }
      ]
    },
    {
      "cell_type": "code",
      "metadata": {
        "colab": {
          "base_uri": "https://localhost:8080/",
          "height": 1000
        },
        "id": "yLtZ40kVN2Mb",
        "outputId": "144464af-c0c3-423c-c07a-dd5a8bbf03fe"
      },
      "source": [
        "myloss = LpLoss(size_average=False)\n",
        "losses_train = []\n",
        "losses_test = []\n",
        "for ep in range(epochs):\n",
        "\n",
        "    model.train()\n",
        "    \n",
        "    train_loss = 0.\n",
        "    for u0_, u_ in train_loader:\n",
        "\n",
        "        loss = 0.\n",
        "\n",
        "        u0_ = u0_.to(device)\n",
        "        u_ = u_.to(device)\n",
        "\n",
        "        u_pred = model(u0_)\n",
        "\n",
        "        loss = myloss(u_pred[...,-1].reshape(batch_size, -1), u_.reshape(batch_size, -1))\n",
        "\n",
        "        train_loss += loss.item()\n",
        "        loss.backward()\n",
        "        optimizer.step()\n",
        "        optimizer.zero_grad()\n",
        " \n",
        "    test_loss = 0.\n",
        "    with torch.no_grad():\n",
        "        for u0_, u_ in test_loader:\n",
        "            \n",
        "            loss = 0.\n",
        "            \n",
        "            u0_ = u0_.to(device)\n",
        "            u_ = u_.to(device)\n",
        "\n",
        "            u_pred = model(u0_)\n",
        "\n",
        "            loss = myloss(u_pred[...,-1].reshape(batch_size, -1), u_.reshape(batch_size, -1))\n",
        "\n",
        "            test_loss += loss.item()\n",
        "\n",
        "    scheduler.step()\n",
        "    # if ep%20==0:\n",
        "    losses_train.append(train_loss/ntrain)\n",
        "    losses_test.append(test_loss/ntest)\n",
        "    print('Epoch {:04d} | Total Train Loss {:.6f} | Total Test Loss {:.6f}'.format(ep, train_loss / ntrain, test_loss / ntest))\n",
        "    "
      ],
      "execution_count": 19,
      "outputs": [
        {
          "output_type": "stream",
          "name": "stdout",
          "text": [
            "Epoch 0000 | Total Train Loss 0.479793 | Total Test Loss 0.374111\n",
            "Epoch 0001 | Total Train Loss 0.377997 | Total Test Loss 0.386757\n",
            "Epoch 0002 | Total Train Loss 0.374708 | Total Test Loss 0.360691\n",
            "Epoch 0003 | Total Train Loss 0.324492 | Total Test Loss 0.318375\n",
            "Epoch 0004 | Total Train Loss 0.281545 | Total Test Loss 0.260956\n",
            "Epoch 0005 | Total Train Loss 0.274400 | Total Test Loss 0.322216\n",
            "Epoch 0006 | Total Train Loss 0.293259 | Total Test Loss 0.295495\n",
            "Epoch 0007 | Total Train Loss 0.280514 | Total Test Loss 0.261202\n",
            "Epoch 0008 | Total Train Loss 0.274001 | Total Test Loss 0.268134\n",
            "Epoch 0009 | Total Train Loss 0.277804 | Total Test Loss 0.264106\n",
            "Epoch 0010 | Total Train Loss 0.271763 | Total Test Loss 0.263919\n",
            "Epoch 0011 | Total Train Loss 0.284246 | Total Test Loss 0.276055\n",
            "Epoch 0012 | Total Train Loss 0.279674 | Total Test Loss 0.276937\n",
            "Epoch 0013 | Total Train Loss 0.276419 | Total Test Loss 0.290078\n",
            "Epoch 0014 | Total Train Loss 0.276145 | Total Test Loss 0.266400\n",
            "Epoch 0015 | Total Train Loss 0.273465 | Total Test Loss 0.259776\n",
            "Epoch 0016 | Total Train Loss 0.274673 | Total Test Loss 0.270616\n",
            "Epoch 0017 | Total Train Loss 0.275049 | Total Test Loss 0.263439\n",
            "Epoch 0018 | Total Train Loss 0.279837 | Total Test Loss 0.260388\n",
            "Epoch 0019 | Total Train Loss 0.270440 | Total Test Loss 0.263504\n",
            "Epoch 0020 | Total Train Loss 0.273654 | Total Test Loss 0.270490\n",
            "Epoch 0021 | Total Train Loss 0.274524 | Total Test Loss 0.260419\n",
            "Epoch 0022 | Total Train Loss 0.274008 | Total Test Loss 0.269230\n",
            "Epoch 0023 | Total Train Loss 0.279162 | Total Test Loss 0.272702\n",
            "Epoch 0024 | Total Train Loss 0.272425 | Total Test Loss 0.277849\n",
            "Epoch 0025 | Total Train Loss 0.273124 | Total Test Loss 0.264687\n",
            "Epoch 0026 | Total Train Loss 0.281163 | Total Test Loss 0.260281\n",
            "Epoch 0027 | Total Train Loss 0.273432 | Total Test Loss 0.262224\n",
            "Epoch 0028 | Total Train Loss 0.273409 | Total Test Loss 0.264714\n",
            "Epoch 0029 | Total Train Loss 0.276964 | Total Test Loss 0.269776\n",
            "Epoch 0030 | Total Train Loss 0.277419 | Total Test Loss 0.266760\n",
            "Epoch 0031 | Total Train Loss 0.277570 | Total Test Loss 0.298584\n",
            "Epoch 0032 | Total Train Loss 0.278606 | Total Test Loss 0.292734\n",
            "Epoch 0033 | Total Train Loss 0.274765 | Total Test Loss 0.270994\n",
            "Epoch 0034 | Total Train Loss 0.272305 | Total Test Loss 0.271352\n",
            "Epoch 0035 | Total Train Loss 0.277292 | Total Test Loss 0.263380\n",
            "Epoch 0036 | Total Train Loss 0.271263 | Total Test Loss 0.271549\n",
            "Epoch 0037 | Total Train Loss 0.273714 | Total Test Loss 0.260712\n",
            "Epoch 0038 | Total Train Loss 0.276910 | Total Test Loss 0.260825\n",
            "Epoch 0039 | Total Train Loss 0.274296 | Total Test Loss 0.261057\n",
            "Epoch 0040 | Total Train Loss 0.271608 | Total Test Loss 0.260021\n",
            "Epoch 0041 | Total Train Loss 0.278126 | Total Test Loss 0.261571\n",
            "Epoch 0042 | Total Train Loss 0.270477 | Total Test Loss 0.260579\n"
          ]
        },
        {
          "output_type": "error",
          "ename": "KeyboardInterrupt",
          "evalue": "ignored",
          "traceback": [
            "\u001b[0;31m---------------------------------------------------------------------------\u001b[0m",
            "\u001b[0;31mKeyboardInterrupt\u001b[0m                         Traceback (most recent call last)",
            "\u001b[0;32m<ipython-input-19-9342810e6b5e>\u001b[0m in \u001b[0;36m<module>\u001b[0;34m()\u001b[0m\n\u001b[1;32m     20\u001b[0m         \u001b[0mtrain_loss\u001b[0m \u001b[0;34m+=\u001b[0m \u001b[0mloss\u001b[0m\u001b[0;34m.\u001b[0m\u001b[0mitem\u001b[0m\u001b[0;34m(\u001b[0m\u001b[0;34m)\u001b[0m\u001b[0;34m\u001b[0m\u001b[0;34m\u001b[0m\u001b[0m\n\u001b[1;32m     21\u001b[0m         \u001b[0mloss\u001b[0m\u001b[0;34m.\u001b[0m\u001b[0mbackward\u001b[0m\u001b[0;34m(\u001b[0m\u001b[0;34m)\u001b[0m\u001b[0;34m\u001b[0m\u001b[0;34m\u001b[0m\u001b[0m\n\u001b[0;32m---> 22\u001b[0;31m         \u001b[0moptimizer\u001b[0m\u001b[0;34m.\u001b[0m\u001b[0mstep\u001b[0m\u001b[0;34m(\u001b[0m\u001b[0;34m)\u001b[0m\u001b[0;34m\u001b[0m\u001b[0;34m\u001b[0m\u001b[0m\n\u001b[0m\u001b[1;32m     23\u001b[0m         \u001b[0moptimizer\u001b[0m\u001b[0;34m.\u001b[0m\u001b[0mzero_grad\u001b[0m\u001b[0;34m(\u001b[0m\u001b[0;34m)\u001b[0m\u001b[0;34m\u001b[0m\u001b[0;34m\u001b[0m\u001b[0m\n\u001b[1;32m     24\u001b[0m \u001b[0;34m\u001b[0m\u001b[0m\n",
            "\u001b[0;32m/usr/local/lib/python3.7/dist-packages/torch/optim/lr_scheduler.py\u001b[0m in \u001b[0;36mwrapper\u001b[0;34m(*args, **kwargs)\u001b[0m\n\u001b[1;32m     63\u001b[0m                 \u001b[0minstance\u001b[0m\u001b[0;34m.\u001b[0m\u001b[0m_step_count\u001b[0m \u001b[0;34m+=\u001b[0m \u001b[0;36m1\u001b[0m\u001b[0;34m\u001b[0m\u001b[0;34m\u001b[0m\u001b[0m\n\u001b[1;32m     64\u001b[0m                 \u001b[0mwrapped\u001b[0m \u001b[0;34m=\u001b[0m \u001b[0mfunc\u001b[0m\u001b[0;34m.\u001b[0m\u001b[0m__get__\u001b[0m\u001b[0;34m(\u001b[0m\u001b[0minstance\u001b[0m\u001b[0;34m,\u001b[0m \u001b[0mcls\u001b[0m\u001b[0;34m)\u001b[0m\u001b[0;34m\u001b[0m\u001b[0;34m\u001b[0m\u001b[0m\n\u001b[0;32m---> 65\u001b[0;31m                 \u001b[0;32mreturn\u001b[0m \u001b[0mwrapped\u001b[0m\u001b[0;34m(\u001b[0m\u001b[0;34m*\u001b[0m\u001b[0margs\u001b[0m\u001b[0;34m,\u001b[0m \u001b[0;34m**\u001b[0m\u001b[0mkwargs\u001b[0m\u001b[0;34m)\u001b[0m\u001b[0;34m\u001b[0m\u001b[0;34m\u001b[0m\u001b[0m\n\u001b[0m\u001b[1;32m     66\u001b[0m \u001b[0;34m\u001b[0m\u001b[0m\n\u001b[1;32m     67\u001b[0m             \u001b[0;31m# Note that the returned function here is no longer a bound method,\u001b[0m\u001b[0;34m\u001b[0m\u001b[0;34m\u001b[0m\u001b[0;34m\u001b[0m\u001b[0m\n",
            "\u001b[0;32m/usr/local/lib/python3.7/dist-packages/torch/optim/optimizer.py\u001b[0m in \u001b[0;36mwrapper\u001b[0;34m(*args, **kwargs)\u001b[0m\n\u001b[1;32m     86\u001b[0m                 \u001b[0mprofile_name\u001b[0m \u001b[0;34m=\u001b[0m \u001b[0;34m\"Optimizer.step#{}.step\"\u001b[0m\u001b[0;34m.\u001b[0m\u001b[0mformat\u001b[0m\u001b[0;34m(\u001b[0m\u001b[0mobj\u001b[0m\u001b[0;34m.\u001b[0m\u001b[0m__class__\u001b[0m\u001b[0;34m.\u001b[0m\u001b[0m__name__\u001b[0m\u001b[0;34m)\u001b[0m\u001b[0;34m\u001b[0m\u001b[0;34m\u001b[0m\u001b[0m\n\u001b[1;32m     87\u001b[0m                 \u001b[0;32mwith\u001b[0m \u001b[0mtorch\u001b[0m\u001b[0;34m.\u001b[0m\u001b[0mautograd\u001b[0m\u001b[0;34m.\u001b[0m\u001b[0mprofiler\u001b[0m\u001b[0;34m.\u001b[0m\u001b[0mrecord_function\u001b[0m\u001b[0;34m(\u001b[0m\u001b[0mprofile_name\u001b[0m\u001b[0;34m)\u001b[0m\u001b[0;34m:\u001b[0m\u001b[0;34m\u001b[0m\u001b[0;34m\u001b[0m\u001b[0m\n\u001b[0;32m---> 88\u001b[0;31m                     \u001b[0;32mreturn\u001b[0m \u001b[0mfunc\u001b[0m\u001b[0;34m(\u001b[0m\u001b[0;34m*\u001b[0m\u001b[0margs\u001b[0m\u001b[0;34m,\u001b[0m \u001b[0;34m**\u001b[0m\u001b[0mkwargs\u001b[0m\u001b[0;34m)\u001b[0m\u001b[0;34m\u001b[0m\u001b[0;34m\u001b[0m\u001b[0m\n\u001b[0m\u001b[1;32m     89\u001b[0m             \u001b[0;32mreturn\u001b[0m \u001b[0mwrapper\u001b[0m\u001b[0;34m\u001b[0m\u001b[0;34m\u001b[0m\u001b[0m\n\u001b[1;32m     90\u001b[0m \u001b[0;34m\u001b[0m\u001b[0m\n",
            "\u001b[0;31mKeyboardInterrupt\u001b[0m: "
          ]
        }
      ]
    },
    {
      "cell_type": "code",
      "metadata": {
        "colab": {
          "base_uri": "https://localhost:8080/",
          "height": 233
        },
        "id": "qin23AwWO6Hb",
        "outputId": "613f888a-6530-4bc5-d98e-6c2e5fddbc04"
      },
      "source": [
        "k = 5\n",
        "T_= 1\n",
        "\n",
        "# u0 = u0_train[k][None,...].to(device)\n",
        "# u = u_train[k][None,...].to(device) \n",
        "# xi = xi_train[k][None,...].to(device)\n",
        "u0 = u0_test[k][None,...].to(device)\n",
        "u = u_test[k][None,...].to(device) \n",
        "u_pred = model(u0)\n",
        "\n",
        "fig = plt.figure(figsize=(10,3))\n",
        "plt.suptitle('Parabolic Additive Forcing', fontsize=16)\n",
        "\n",
        "plt.plot(u[0].detach().cpu().numpy(),label='truth')\n",
        "plt.plot(u_pred[0,...,-1].detach().cpu().numpy(),label='prediction')\n",
        "plt.legend()\n",
        "# plt.tight_layout()\n",
        "plt.show()"
      ],
      "execution_count": 20,
      "outputs": [
        {
          "output_type": "display_data",
          "data": {
            "image/png": "[encoded data removed]",
            "text/plain": [
              "<Figure size 720x216 with 1 Axes>"
            ]
          },
          "metadata": {
            "needs_background": "light"
          }
        }
      ]
    },
    {
      "cell_type": "code",
      "metadata": {
        "id": "Hqj-LVhJPwVh"
      },
      "source": [
        ""
      ],
      "execution_count": null,
      "outputs": []
    }
  ]
}