{
  "nbformat": 4,
  "nbformat_minor": 0,
  "metadata": {
    "accelerator": "GPU",
    "colab": {
      "name": "Parabolic1D.ipynb",
      "provenance": [],
      "collapsed_sections": [],
      "machine_shape": "hm",
      "include_colab_link": true
    },
    "kernelspec": {
      "display_name": "Python 3",
      "name": "python3"
    },
    "language_info": {
      "name": "python"
    }
  },
  "cells": [
    {
      "cell_type": "markdown",
      "metadata": {
        "id": "view-in-github",
        "colab_type": "text"
      },
      "source": [
        "<a href=\"https://colab.research.google.com/github/crispitagorico/Neural-SPDEs/blob/main/Parabolic1D.ipynb\" target=\"_parent\"><img src=\"https://colab.research.google.com/assets/colab-badge.svg\" alt=\"Open In Colab\"/></a>"
      ]
    },
    {
      "cell_type": "code",
      "metadata": {
        "id": "JFWquUDbiC2v",
        "colab": {
          "base_uri": "https://localhost:8080/"
        },
        "outputId": "ba4489e2-f06d-4cea-cfb2-83e51141a926"
      },
      "source": [
        "!git clone \"https://github.com/crispitagorico/Neural-SPDEs.git\""
      ],
      "execution_count": 1,
      "outputs": [
        {
          "output_type": "stream",
          "name": "stdout",
          "text": [
            "Cloning into 'Neural-SPDEs'...\n",
            "remote: Enumerating objects: 30, done.\u001b[K\n",
            "remote: Counting objects: 100% (30/30), done.\u001b[K\n",
            "remote: Compressing objects: 100% (21/21), done.\u001b[K\n",
            "remote: Total 30 (delta 9), reused 14 (delta 3), pack-reused 0\u001b[K\n",
            "Unpacking objects: 100% (30/30), done.\n"
          ]
        }
      ]
    },
    {
      "cell_type": "code",
      "metadata": {
        "colab": {
          "base_uri": "https://localhost:8080/"
        },
        "id": "h70GguMIig1a",
        "outputId": "835dd918-f0f6-41dd-fbca-517a64152b34"
      },
      "source": [
        "%cd Neural-SPDEs/"
      ],
      "execution_count": 1,
      "outputs": [
        {
          "output_type": "stream",
          "name": "stdout",
          "text": [
            "/content/Neural-SPDEs\n"
          ]
        }
      ]
    },
    {
      "cell_type": "code",
      "metadata": {
        "id": "UfJa8lcgkBic",
        "colab": {
          "base_uri": "https://localhost:8080/"
        },
        "outputId": "787fbd76-9a0f-4608-c97b-eee7ddd26ef2"
      },
      "source": [
        "from google.colab import drive\n",
        "drive.mount('/content/drive')"
      ],
      "execution_count": 3,
      "outputs": [
        {
          "output_type": "stream",
          "name": "stdout",
          "text": [
            "Mounted at /content/drive\n"
          ]
        }
      ]
    },
    {
      "cell_type": "code",
      "metadata": {
        "id": "9OL6xwxkxOEp"
      },
      "source": [
        "import matplotlib.pyplot as plt\n",
        "from tqdm.notebook import tqdm\n",
        "\n",
        "import torch\n",
        "import torch.optim as optim\n",
        "\n",
        "from utilities import MatReader, LpLoss, count_params\n",
        "from neuralSPDE_1D import NeuralFixedPoint\n",
        "\n",
        "torch.manual_seed(0)\n",
        "import warnings\n",
        "warnings.filterwarnings('ignore')"
      ],
      "execution_count": 2,
      "outputs": []
    },
    {
      "cell_type": "code",
      "metadata": {
        "id": "bdb_GznqTeIm"
      },
      "source": [
        "device = torch.device('cuda' if torch.cuda.is_available() else 'cpu')"
      ],
      "execution_count": 3,
      "outputs": []
    },
    {
      "cell_type": "code",
      "metadata": {
        "id": "enQup9GT6br9"
      },
      "source": [
        "reader = MatReader('../drive/MyDrive/parabolic_multiplicative.mat')\n",
        "xi = reader.read_field('forcing')\n",
        "data = reader.read_field('sol')"
      ],
      "execution_count": 42,
      "outputs": []
    },
    {
      "cell_type": "code",
      "metadata": {
        "id": "ZGFu5hXl6TlK"
      },
      "source": [
        "ntrain = 800\n",
        "ntest = 200\n",
        "\n",
        "batch_size = 20\n",
        "epochs = 500\n",
        "learning_rate = 0.0025\n",
        "scheduler_step = 100\n",
        "scheduler_gamma = 0.5\n",
        "step = 1\n",
        "\n",
        "sub_t = 1\n",
        "\n",
        "u0_train = data[:ntrain,:-1,0][:,None,...]\n",
        "u_train = data[:ntrain,:-1,0:50:sub_t][...,-1]\n",
        "xi_train = xi[:ntrain, :-1, 0:50:sub_t][:,None,...]\n",
        "xi_train = torch.cat([xi_train,torch.ones_like(xi_train)],dim=1)\n",
        "\n",
        "u0_test = data[-ntest:,:-1,0][:,None,...]\n",
        "u_test = data[-ntest:,:-1,0:50:sub_t][...,-1]\n",
        "xi_test = xi[-ntest:, :-1, 0:50:sub_t][:,None,...]\n",
        "xi_test = torch.cat([xi_test,torch.ones_like(xi_test)],dim=1)\n",
        "\n",
        "train_loader = torch.utils.data.DataLoader(torch.utils.data.TensorDataset(u0_train, xi_train, u_train), batch_size=batch_size, shuffle=True)\n",
        "test_loader = torch.utils.data.DataLoader(torch.utils.data.TensorDataset(u0_test, xi_test, u_test), batch_size=batch_size, shuffle=False)"
      ],
      "execution_count": 50,
      "outputs": []
    },
    {
      "cell_type": "code",
      "metadata": {
        "colab": {
          "base_uri": "https://localhost:8080/",
          "height": 297
        },
        "id": "5aYgXX0N7dqB",
        "outputId": "0f24c368-450f-4138-ab67-fa0c6967ff6d"
      },
      "source": [
        "x_ft = torch.fft.fftshift(torch.fft.fftn(u_train[0],dim=0),dim=0)\n",
        "plt.plot(x_ft)\n",
        "plt.title(r'$fft({u}(x,1))$')\n",
        "plt.xlabel('k')\n",
        "plt.show()"
      ],
      "execution_count": 51,
      "outputs": [
        {
          "output_type": "display_data",
          "data": {
            "image/png": "[encoded data removed]",
            "text/plain": [
              "<Figure size 432x288 with 1 Axes>"
            ]
          },
          "metadata": {
            "needs_background": "light"
          }
        }
      ]
    },
    {
      "cell_type": "code",
      "metadata": {
        "colab": {
          "base_uri": "https://localhost:8080/",
          "height": 265
        },
        "id": "YeBMlrU_5mXz",
        "outputId": "1f49b872-979f-4bad-dc29-1389940f3801"
      },
      "source": [
        "plt.plot(data[0,:,0:50:sub_t][...,-1],label=r'$u(1-\\epsilon,t)$')\n",
        "plt.plot(data[0,:,0:50:sub_t][...,0],label=r'$u(0,t)$')\n",
        "plt.legend()\n",
        "plt.show()"
      ],
      "execution_count": 52,
      "outputs": [
        {
          "output_type": "display_data",
          "data": {
            "image/png": "[encoded data removed]",
            "text/plain": [
              "<Figure size 432x288 with 1 Axes>"
            ]
          },
          "metadata": {
            "needs_background": "light"
          }
        }
      ]
    },
    {
      "cell_type": "code",
      "metadata": {
        "colab": {
          "base_uri": "https://localhost:8080/"
        },
        "id": "sLQyaqkGyfYD",
        "outputId": "e5ad7c6d-bcc4-4209-9bc4-ffc1c9ebcc49"
      },
      "source": [
        "# model = NeuralFixedPoint(modes1=16, modes2=16, modes3=8, in_channels=1, hidden_channels=64, forcing_channels=1, out_channels=1, T=T, n_iter=4).cuda()\n",
        "model = NeuralFixedPoint(modes1=24, modes2=10, in_channels=1, hidden_channels=2, forcing_channels=2, out_channels=1, T=xi_train.shape[3], n_iter=1).cuda()\n",
        "\n",
        "print(count_params(model))\n",
        "\n",
        "optimizer = torch.optim.Adam(model.parameters(), lr=0.0025, weight_decay=1e-4)\n",
        "scheduler = torch.optim.lr_scheduler.StepLR(optimizer, step_size=100, gamma=0.5)"
      ],
      "execution_count": 56,
      "outputs": [
        {
          "output_type": "stream",
          "name": "stdout",
          "text": [
            "1497\n"
          ]
        }
      ]
    },
    {
      "cell_type": "code",
      "metadata": {
        "id": "ZflyhT3qyxPI",
        "colab": {
          "base_uri": "https://localhost:8080/"
        },
        "outputId": "ee3bc407-ab01-49b7-89ab-4156865feb83"
      },
      "source": [
        "myloss = LpLoss(size_average=False)\n",
        "\n",
        "for ep in range(epochs):\n",
        "\n",
        "    model.train()\n",
        "    \n",
        "    train_loss = 0.\n",
        "    for u0_, xi_, u_ in train_loader:\n",
        "\n",
        "        loss = 0.\n",
        "\n",
        "        u0_ = u0_.to(device)\n",
        "        xi_ = xi_.to(device)\n",
        "        u_ = u_.to(device)\n",
        "\n",
        "        u_pred = model(u0_, xi_)\n",
        "\n",
        "        loss = myloss(u_pred[...,-1].reshape(batch_size, -1), u_.reshape(batch_size, -1))\n",
        "\n",
        "        train_loss += loss.item()\n",
        "        loss.backward()\n",
        "        optimizer.step()\n",
        "        optimizer.zero_grad()\n",
        "\n",
        "    \n",
        "    test_loss = 0.\n",
        "    with torch.no_grad():\n",
        "        for u0_, xi_, u_ in test_loader:\n",
        "            \n",
        "            loss = 0.\n",
        "            \n",
        "            u0_ = u0_.to(device)\n",
        "            xi_ = xi_.to(device)\n",
        "            u_ = u_.to(device)\n",
        "\n",
        "            u_pred = model(u0_, xi_)\n",
        "\n",
        "            loss = myloss(u_pred[...,-1].reshape(batch_size, -1), u_.reshape(batch_size, -1))\n",
        "\n",
        "            test_loss += loss.item()\n",
        "\n",
        "    scheduler.step()\n",
        "    if ep%20==0:\n",
        "      print('Epoch {:04d} | Total Train Loss {:.6f} | Total Test Loss {:.6f}'.format(ep, train_loss / ntrain, test_loss / ntest))\n",
        "    "
      ],
      "execution_count": 57,
      "outputs": [
        {
          "output_type": "stream",
          "name": "stdout",
          "text": [
            "Epoch 0000 | Total Train Loss 0.336493 | Total Test Loss 0.254556\n",
            "Epoch 0020 | Total Train Loss 0.076107 | Total Test Loss 0.073861\n",
            "Epoch 0040 | Total Train Loss 0.073364 | Total Test Loss 0.067019\n",
            "Epoch 0060 | Total Train Loss 0.061365 | Total Test Loss 0.062686\n",
            "Epoch 0080 | Total Train Loss 0.061866 | Total Test Loss 0.078980\n",
            "Epoch 0100 | Total Train Loss 0.058638 | Total Test Loss 0.056005\n",
            "Epoch 0120 | Total Train Loss 0.054017 | Total Test Loss 0.056252\n",
            "Epoch 0140 | Total Train Loss 0.059698 | Total Test Loss 0.059572\n",
            "Epoch 0160 | Total Train Loss 0.059333 | Total Test Loss 0.059265\n",
            "Epoch 0180 | Total Train Loss 0.053886 | Total Test Loss 0.057203\n",
            "Epoch 0200 | Total Train Loss 0.051984 | Total Test Loss 0.056026\n",
            "Epoch 0220 | Total Train Loss 0.053903 | Total Test Loss 0.053086\n",
            "Epoch 0240 | Total Train Loss 0.051317 | Total Test Loss 0.056137\n",
            "Epoch 0260 | Total Train Loss 0.051847 | Total Test Loss 0.052589\n",
            "Epoch 0280 | Total Train Loss 0.051288 | Total Test Loss 0.051464\n",
            "Epoch 0300 | Total Train Loss 0.051777 | Total Test Loss 0.053217\n",
            "Epoch 0320 | Total Train Loss 0.049791 | Total Test Loss 0.054872\n",
            "Epoch 0340 | Total Train Loss 0.049542 | Total Test Loss 0.051343\n",
            "Epoch 0360 | Total Train Loss 0.049883 | Total Test Loss 0.051766\n",
            "Epoch 0380 | Total Train Loss 0.049647 | Total Test Loss 0.050965\n",
            "Epoch 0400 | Total Train Loss 0.049613 | Total Test Loss 0.050673\n",
            "Epoch 0420 | Total Train Loss 0.049360 | Total Test Loss 0.051343\n",
            "Epoch 0440 | Total Train Loss 0.048860 | Total Test Loss 0.050517\n",
            "Epoch 0460 | Total Train Loss 0.048771 | Total Test Loss 0.050143\n",
            "Epoch 0480 | Total Train Loss 0.049524 | Total Test Loss 0.051736\n"
          ]
        }
      ]
    },
    {
      "cell_type": "markdown",
      "metadata": {
        "id": "oZm2b1IiqDvg"
      },
      "source": [
        "**Visualize results**"
      ]
    },
    {
      "cell_type": "code",
      "metadata": {
        "id": "SIExz_CbBgTN",
        "colab": {
          "base_uri": "https://localhost:8080/",
          "height": 233
        },
        "outputId": "9f24e376-909a-4ada-d2a3-5bbbfcbeb590"
      },
      "source": [
        "k = 2\n",
        "T_= 1\n",
        "\n",
        "# u0 = u0_train[k][None,...].to(device)\n",
        "# u = u_train[k][None,...].to(device) \n",
        "# xi = xi_train[k][None,...].to(device)\n",
        "u0 = u0_test[k][None,...].to(device)\n",
        "u = u_test[k][None,...].to(device) \n",
        "xi = xi_test[k][None,...].to(device)\n",
        "u_pred = model(u0,xi)\n",
        "\n",
        "# fig, ax = plt.subplots(1,T_+1,figsize=(25,3))\n",
        "fig = plt.figure(figsize=(10,3))\n",
        "plt.suptitle('Parabolic Multiplicative Forcing', fontsize=16)\n",
        "\n",
        "# ax[0].plot(u0[0,0,...].detach().cpu().numpy())\n",
        "# ax[0].set_title('initial condition')\n",
        "\n",
        "# for i in range(T_):\n",
        "#   ax[i+1].plot(u[0,...,i].detach().cpu().numpy())\n",
        "#   ax[i+1].plot(u_pred[0,0,...,i].detach().cpu().numpy())\n",
        " # # ax[0][i+1].set_title(f'time step {i+1}')\n",
        "plt.plot(u[0].detach().cpu().numpy(),label='truth')\n",
        "plt.plot(u_pred[0,0,...,-1].detach().cpu().numpy(),label='prediction')\n",
        "plt.legend()\n",
        "# plt.tight_layout()\n",
        "plt.show()"
      ],
      "execution_count": 59,
      "outputs": [
        {
          "output_type": "display_data",
          "data": {
            "image/png": "[encoded data removed]",
            "text/plain": [
              "<Figure size 720x216 with 1 Axes>"
            ]
          },
          "metadata": {
            "needs_background": "light"
          }
        }
      ]
    }
  ]
}