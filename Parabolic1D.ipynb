{
  "nbformat": 4,
  "nbformat_minor": 0,
  "metadata": {
    "accelerator": "GPU",
    "colab": {
      "name": "Parabolic1D.ipynb",
      "provenance": [],
      "collapsed_sections": [],
      "machine_shape": "hm",
      "include_colab_link": true
    },
    "kernelspec": {
      "display_name": "Python 3",
      "name": "python3"
    },
    "language_info": {
      "name": "python"
    }
  },
  "cells": [
    {
      "cell_type": "markdown",
      "metadata": {
        "id": "view-in-github",
        "colab_type": "text"
      },
      "source": [
        "<a href=\"https://colab.research.google.com/github/crispitagorico/Neural-SPDEs/blob/main/Parabolic1D.ipynb\" target=\"_parent\"><img src=\"https://colab.research.google.com/assets/colab-badge.svg\" alt=\"Open In Colab\"/></a>"
      ]
    },
    {
      "cell_type": "code",
      "metadata": {
        "id": "JFWquUDbiC2v"
      },
      "source": [
        "!git clone \"https://github.com/crispitagorico/Neural-SPDEs.git\""
      ],
      "execution_count": null,
      "outputs": []
    },
    {
      "cell_type": "code",
      "metadata": {
        "id": "h70GguMIig1a"
      },
      "source": [
        "%cd Neural-SPDEs/"
      ],
      "execution_count": null,
      "outputs": []
    },
    {
      "cell_type": "code",
      "metadata": {
        "id": "UfJa8lcgkBic"
      },
      "source": [
        "from google.colab import drive\n",
        "drive.mount('/content/drive')"
      ],
      "execution_count": null,
      "outputs": []
    },
    {
      "cell_type": "code",
      "metadata": {
        "id": "9OL6xwxkxOEp"
      },
      "source": [
        "import matplotlib.pyplot as plt\n",
        "from tqdm.notebook import tqdm\n",
        "\n",
        "import torch\n",
        "import torch.optim as optim\n",
        "\n",
        "from utilities import MatReader, LpLoss, count_params\n",
        "from neuralSPDE_1D import NeuralFixedPoint\n",
        "\n",
        "torch.manual_seed(0)\n",
        "import warnings\n",
        "warnings.filterwarnings('ignore')"
      ],
      "execution_count": null,
      "outputs": []
    },
    {
      "cell_type": "code",
      "metadata": {
        "id": "bdb_GznqTeIm"
      },
      "source": [
        "device = torch.device('cuda' if torch.cuda.is_available() else 'cpu')"
      ],
      "execution_count": null,
      "outputs": []
    },
    {
      "cell_type": "code",
      "metadata": {
        "id": "enQup9GT6br9"
      },
      "source": [
        "reader = MatReader('../drive/MyDrive/parabolic_multiplicative.mat')\n",
        "xi = reader.read_field('forcing')\n",
        "data = reader.read_field('sol')"
      ],
      "execution_count": null,
      "outputs": []
    },
    {
      "cell_type": "code",
      "metadata": {
        "id": "ZGFu5hXl6TlK"
      },
      "source": [
        "ntrain = 800\n",
        "ntest = 200\n",
        "\n",
        "batch_size = 20\n",
        "epochs = 500\n",
        "learning_rate = 0.0025\n",
        "scheduler_step = 100\n",
        "scheduler_gamma = 0.5\n",
        "step = 1\n",
        "\n",
        "sub_x = 1\n",
        "sub_t = 50\n",
        "\n",
        "u0_train = data[:ntrain,::sub_x,0][:,None,...]\n",
        "u_train = data[:ntrain,::sub_x,1::sub_t]\n",
        "xi_train = xi[:ntrain, ::sub_x, 1::sub_t][:,None,...]\n",
        "\n",
        "u0_test = data[-ntest:,::sub_x,0][:,None,...]\n",
        "u_test = data[-ntest:,::sub_x,1::sub_t]\n",
        "xi_test = xi[-ntest:, ::sub_x, 1::sub_t][:,None,...]\n",
        "\n",
        "train_loader = torch.utils.data.DataLoader(torch.utils.data.TensorDataset(u0_train, xi_train, u_train), batch_size=batch_size, shuffle=True)\n",
        "test_loader = torch.utils.data.DataLoader(torch.utils.data.TensorDataset(u0_test, xi_test, u_test), batch_size=batch_size, shuffle=False)"
      ],
      "execution_count": null,
      "outputs": []
    },
    {
      "cell_type": "code",
      "metadata": {
        "id": "sLQyaqkGyfYD"
      },
      "source": [
        "# model = NeuralFixedPoint(modes1=16, modes2=16, modes3=8, in_channels=1, hidden_channels=64, forcing_channels=1, out_channels=1, T=T, n_iter=4).cuda()\n",
        "model = NeuralFixedPoint(modes1=8, modes2=8, in_channels=1, hidden_channels=32, forcing_channels=1, out_channels=1, T=u_train.shape[2], n_iter=8).cuda()\n",
        "\n",
        "print(count_params(model))\n",
        "\n",
        "optimizer = torch.optim.Adam(model.parameters(), lr=0.001, weight_decay=1e-4)\n",
        "scheduler = torch.optim.lr_scheduler.StepLR(optimizer, step_size=10, gamma=0.5)"
      ],
      "execution_count": null,
      "outputs": []
    },
    {
      "cell_type": "code",
      "metadata": {
        "id": "ZflyhT3qyxPI"
      },
      "source": [
        "myloss = LpLoss(size_average=False)\n",
        "\n",
        "for ep in range(epochs):\n",
        "\n",
        "    model.train()\n",
        "    \n",
        "    train_loss = 0.\n",
        "    for u0_, xi_, u_ in train_loader:\n",
        "\n",
        "        loss = 0.\n",
        "\n",
        "        u0_ = u0_.to(device)\n",
        "        xi_ = xi_.to(device)\n",
        "        u_ = u_.to(device)\n",
        "\n",
        "        u_pred = model(u0_, xi_)\n",
        "\n",
        "        loss = myloss(u_pred.reshape(batch_size, -1), u_.reshape(batch_size, -1))\n",
        "\n",
        "        train_loss += loss.item()\n",
        "        loss.backward()\n",
        "        optimizer.step()\n",
        "        optimizer.zero_grad()\n",
        "\n",
        "    \n",
        "    test_loss = 0.\n",
        "    with torch.no_grad():\n",
        "        for u0_, xi_, u_ in test_loader:\n",
        "            \n",
        "            loss = 0.\n",
        "            \n",
        "            u0_ = u0_.to(device)\n",
        "            xi_ = xi_.to(device)\n",
        "            u_ = u_.to(device)\n",
        "\n",
        "            u_pred = model(u0_, xi_)\n",
        "\n",
        "            loss = myloss(u_pred.reshape(batch_size, -1), u_.reshape(batch_size, -1))\n",
        "\n",
        "            test_loss += loss.item()\n",
        "\n",
        "    scheduler.step()\n",
        "    print('Epoch {:04d} | Total Train Loss {:.6f} | Total Test Loss {:.6f}'.format(ep, train_loss / ntrain, test_loss / ntest))\n",
        "    "
      ],
      "execution_count": null,
      "outputs": []
    },
    {
      "cell_type": "markdown",
      "metadata": {
        "id": "oZm2b1IiqDvg"
      },
      "source": [
        "**Visualize results**"
      ]
    },
    {
      "cell_type": "code",
      "metadata": {
        "id": "SIExz_CbBgTN"
      },
      "source": [
        "k = 5\n",
        "T_= 10\n",
        "\n",
        "# u0 = u0_train[k][None,...].to(device)\n",
        "# u = u_train[k][None,...].to(device) \n",
        "# xi = xi_train[k][None,...].to(device)\n",
        "u0 = u0_test[k][None,...].to(device)\n",
        "u = u_test[k][None,...].to(device) \n",
        "xi = xi_test[k][None,...].to(device)\n",
        "u_pred = model(u0,xi)\n",
        "\n",
        "fig, ax = plt.subplots(1,T_+1,figsize=(25,3))\n",
        "plt.suptitle('Parabolic Multiplicative Forcing', fontsize=16)\n",
        "\n",
        "ax[0].plot(u0[0,0,...].detach().cpu().numpy())\n",
        "ax[0].set_title('initial condition')\n",
        "\n",
        "for i in range(T_):\n",
        "  ax[i+1].plot(u[0,...,i].detach().cpu().numpy())\n",
        "  ax[i+1].plot(u_pred[0,0,...,i].detach().cpu().numpy())\n",
        "  # ax[0][i+1].set_title(f'time step {i+1}')\n",
        "plt.tight_layout()\n",
        "plt.show()"
      ],
      "execution_count": null,
      "outputs": []
    },
    {
      "cell_type": "code",
      "metadata": {
        "id": "6sfx9Pdr2Eu9"
      },
      "source": [
        ""
      ],
      "execution_count": null,
      "outputs": []
    }
  ]
}