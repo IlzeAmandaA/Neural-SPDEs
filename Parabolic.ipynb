{
  "nbformat": 4,
  "nbformat_minor": 0,
  "metadata": {
    "colab": {
      "name": "Parabolic.ipynb",
      "provenance": [],
      "collapsed_sections": [],
      "machine_shape": "hm",
      "mount_file_id": "1OS4xVMlMGfTikXtFLyH2ARsIuTGGahlm",
      "authorship_tag": "ABX9TyPhnMNWNi9G2SzsVvpZyOTU",
      "include_colab_link": true
    },
    "kernelspec": {
      "name": "python3",
      "display_name": "Python 3"
    },
    "language_info": {
      "name": "python"
    },
    "accelerator": "GPU"
  },
  "cells": [
    {
      "cell_type": "markdown",
      "metadata": {
        "id": "view-in-github",
        "colab_type": "text"
      },
      "source": [
        "<a href=\"https://colab.research.google.com/github/crispitagorico/Neural-SPDEs/blob/main/Parabolic.ipynb\" target=\"_parent\"><img src=\"https://colab.research.google.com/assets/colab-badge.svg\" alt=\"Open In Colab\"/></a>"
      ]
    },
    {
      "cell_type": "code",
      "metadata": {
        "id": "Uo4xBEJf_OER"
      },
      "source": [
        "!git clone \"https://github.com/crispitagorico/Neural-SPDEs.git\""
      ],
      "execution_count": null,
      "outputs": []
    },
    {
      "cell_type": "code",
      "metadata": {
        "id": "_Td8hEqSRe05"
      },
      "source": [
        "!git clone \"https://github.com/andrisger/Feature-Engineering-with-Regularity-Structures.git\""
      ],
      "execution_count": null,
      "outputs": []
    },
    {
      "cell_type": "code",
      "metadata": {
        "id": "yBTuFnWCt355"
      },
      "source": [
        "!pip install torchcde"
      ],
      "execution_count": null,
      "outputs": []
    },
    {
      "cell_type": "code",
      "metadata": {
        "id": "1q_ivsp8Tlvl"
      },
      "source": [
        "import matplotlib.pyplot as plt\n",
        "import scipy.io\n",
        "from tqdm.notebook import tqdm\n",
        "from importlib import reload"
      ],
      "execution_count": 1,
      "outputs": []
    },
    {
      "cell_type": "code",
      "metadata": {
        "id": "HmfKWWU6SYh2"
      },
      "source": [
        "%run Feature-Engineering-with-Regularity-Structures/Classes/SPDEs.ipynb\n",
        "%run Feature-Engineering-with-Regularity-Structures/Classes/Noise.ipynb"
      ],
      "execution_count": 2,
      "outputs": []
    },
    {
      "cell_type": "markdown",
      "metadata": {
        "id": "3pX2Ix-M-yXQ"
      },
      "source": [
        "# Generate dataset"
      ]
    },
    {
      "cell_type": "markdown",
      "metadata": {
        "id": "BAVZEcjWncLE"
      },
      "source": [
        "**Fixed initial condition settings**"
      ]
    },
    {
      "cell_type": "code",
      "metadata": {
        "id": "o52OoKx0SnKn"
      },
      "source": [
        "dx, dt = 0.01, 0.001 #space-time increments \n",
        "k = 2000\n",
        "# k = 10000 # Number of realizations\n",
        "# bsize = 100\n",
        "a, b, s, t = 0, 1, 0, 1 # space-time boundaries"
      ],
      "execution_count": 3,
      "outputs": []
    },
    {
      "cell_type": "code",
      "metadata": {
        "id": "zhp3DyZvS08j"
      },
      "source": [
        "ic = lambda x: x*(1-x) # initial condition\n",
        "mu = lambda x: 3*x-x**3 # drift\n",
        "# sigma1 = lambda x: x # multiplicative diffusive term\n",
        "sigma2 = lambda x: 1 # additive diffusive term"
      ],
      "execution_count": 4,
      "outputs": []
    },
    {
      "cell_type": "markdown",
      "metadata": {
        "id": "ku1uR26m95R4"
      },
      "source": [
        "**Generate small dataset with low resolution in space and time**"
      ]
    },
    {
      "cell_type": "code",
      "metadata": {
        "id": "G3-ZZfCY94g2"
      },
      "source": [
        "X, T = Noise().partition(a,b,dx), Noise().partition(s,t,dt) # space grid O_X and time grid O_T\n",
        "W = Noise().WN_space_time_many(s, t, dt, a, b, dx, k) # Create realizations of space time white noise\n",
        "Soln_mult = SPDE(BC = 'P', IC = ic, mu = mu, sigma = sigma2).Parabolic(W, T, X)"
      ],
      "execution_count": 5,
      "outputs": []
    },
    {
      "cell_type": "markdown",
      "metadata": {
        "id": "ZQcgXtiy9knu"
      },
      "source": [
        "**Generate large dataset with highest resolution in space and time**"
      ]
    },
    {
      "cell_type": "code",
      "metadata": {
        "id": "qKHENvAAJnNu"
      },
      "source": [
        "# for i in tqdm(range(k//bsize)):\n",
        "#   X, T = Noise().partition(a,b,dx), Noise().partition(s,t,dt) # space grid O_X and time grid O_T\n",
        "#   W = Noise().WN_space_time_many(s, t, dt, a, b, dx, bsize) # Create realizations of space time white noise\n",
        "#   # solutions to the multiplicative equation \n",
        "#   Soln_mult = SPDE(BC = 'P', IC = ic, mu = mu, sigma = sigma2).Parabolic(W, T, X)\n",
        "#   scipy.io.savemat('../drive/MyDrive/Phi41_xsi/{}.mat'.format(i), mdict={'X':X, 'T':T, 'W': W.transpose(0,2,1), 'sol': Soln_mult.transpose(0,2,1)})\n",
        "#   scipy.io.savemat('../drive/MyDrive/Phi41_xsi/small_{}.mat'.format(i), mdict={'X':X, 'T':T,'W': W.transpose(0,2,1)[:,::4,::4], 'sol': Soln_mult.transpose(0,2,1)[:,::4,::4]})"
      ],
      "execution_count": null,
      "outputs": []
    },
    {
      "cell_type": "markdown",
      "metadata": {
        "id": "FTteH1Cn-rqh"
      },
      "source": [
        "# Model fitting"
      ]
    },
    {
      "cell_type": "code",
      "metadata": {
        "colab": {
          "base_uri": "https://localhost:8080/"
        },
        "id": "X0bc897O_RLN",
        "outputId": "572a22e5-c82d-435d-eb18-6f3d5663324b"
      },
      "source": [
        "%cd Neural-SPDEs/"
      ],
      "execution_count": 6,
      "outputs": [
        {
          "output_type": "stream",
          "name": "stdout",
          "text": [
            "/content/Neural-SPDEs\n"
          ]
        }
      ]
    },
    {
      "cell_type": "code",
      "metadata": {
        "id": "DyING0iQ_yWC"
      },
      "source": [
        "import torch\n",
        "import torch.optim as optim\n",
        "import numpy as np\n",
        "\n",
        "from utilities import MatReader, LpLoss, count_params\n",
        "from neuralSPDE_1D import NeuralFixedPoint\n",
        "\n",
        "\n",
        "torch.manual_seed(0)\n",
        "import warnings\n",
        "warnings.filterwarnings('ignore')"
      ],
      "execution_count": 8,
      "outputs": []
    },
    {
      "cell_type": "code",
      "metadata": {
        "id": "BPynzuf3_5SK"
      },
      "source": [
        "device = torch.device('cuda' if torch.cuda.is_available() else 'cpu')"
      ],
      "execution_count": 9,
      "outputs": []
    },
    {
      "cell_type": "code",
      "metadata": {
        "id": "txej9C70Aebu"
      },
      "source": [
        "xi = torch.from_numpy(W.astype(np.float32)).permute(0,2,1)\n",
        "data = torch.from_numpy(Soln_mult.astype(np.float32)).permute(0,2,1)"
      ],
      "execution_count": 58,
      "outputs": []
    },
    {
      "cell_type": "code",
      "metadata": {
        "id": "HYqkeRGp_70V"
      },
      "source": [
        "ntrain = 800\n",
        "ntest = 200\n",
        "\n",
        "batch_size = 20\n",
        "epochs = 5000\n",
        "learning_rate = 0.0025\n",
        "scheduler_step = 100\n",
        "scheduler_gamma = 0.5\n",
        "step = 1\n",
        "T = 50\n",
        "sub_t = 1\n",
        "\n",
        "u0_train = data[:ntrain,:-1,0][:,None,...]\n",
        "u_train = data[:ntrain,:-1,1:T:sub_t]\n",
        "xi_train = xi[:ntrain, :-1,1:T:sub_t][:,None,...]\n",
        "# xi_train = torch.diff(xi[:ntrain, :-1,:T:sub_t],dim=-1)[:,None,...]\n",
        "xi_train = torch.cat([xi_train,torch.ones_like(xi_train)],dim=1)\n",
        "\n",
        "u0_test = data[-ntest:,:-1,0][:,None,...]\n",
        "u_test = data[-ntest:,:-1,1:T:sub_t]\n",
        "xi_test = xi[-ntest:, :-1,1:T:sub_t][:,None,...]\n",
        "# xi_test = torch.diff(xi[-ntest:, :-1,:T:sub_t],dim=-1)[:,None,...]\n",
        "xi_test = torch.cat([xi_test,torch.ones_like(xi_test)],dim=1)\n",
        "\n",
        "train_loader = torch.utils.data.DataLoader(torch.utils.data.TensorDataset(u0_train, xi_train, u_train), batch_size=batch_size, shuffle=True)\n",
        "test_loader = torch.utils.data.DataLoader(torch.utils.data.TensorDataset(u0_test, xi_test, u_test), batch_size=batch_size, shuffle=False)"
      ],
      "execution_count": 59,
      "outputs": []
    },
    {
      "cell_type": "code",
      "metadata": {
        "colab": {
          "base_uri": "https://localhost:8080/"
        },
        "id": "4SiFrZCYBXu1",
        "outputId": "302e8738-fd6f-41d7-875f-797598163698"
      },
      "source": [
        "# model = NeuralFixedPoint(modes1=16, modes2=16, modes3=8, in_channels=1, hidden_channels=64, forcing_channels=1, out_channels=1, T=T, n_iter=4).cuda()\n",
        "model = NeuralFixedPoint(modes1=32, modes2=32, in_channels=1, hidden_channels=8, \n",
        "                         forcing_channels=2, out_channels=1, T=xi_train.shape[3], n_iter=2).cuda()\n",
        "\n",
        "print(count_params(model))\n",
        "\n",
        "optimizer = torch.optim.Adam(model.parameters(), lr=0.001, weight_decay=1e-4)\n",
        "scheduler = torch.optim.lr_scheduler.StepLR(optimizer, step_size=100, gamma=0.5)"
      ],
      "execution_count": 80,
      "outputs": [
        {
          "output_type": "stream",
          "name": "stdout",
          "text": [
            "67009\n"
          ]
        }
      ]
    },
    {
      "cell_type": "code",
      "metadata": {
        "colab": {
          "base_uri": "https://localhost:8080/",
          "height": 861
        },
        "id": "okJkuD86Bet4",
        "outputId": "a048e3c5-a2c9-4675-b207-52d4e6ce9457"
      },
      "source": [
        "myloss = LpLoss(size_average=False)\n",
        "losses_train = []\n",
        "losses_test = []\n",
        "for ep in range(epochs):\n",
        "\n",
        "    model.train()\n",
        "    \n",
        "    train_loss = 0.\n",
        "    for u0_, xi_, u_ in train_loader:\n",
        "\n",
        "        loss = 0.\n",
        "\n",
        "        u0_ = u0_.to(device)\n",
        "        xi_ = xi_.to(device)\n",
        "        u_ = u_.to(device)\n",
        "\n",
        "        u_pred = model(u0_, xi_)\n",
        "\n",
        "        loss = myloss(u_pred.reshape(batch_size, -1), u_.reshape(batch_size, -1))\n",
        "\n",
        "        train_loss += loss.item()\n",
        "        loss.backward()\n",
        "        optimizer.step()\n",
        "        optimizer.zero_grad()\n",
        " \n",
        "    test_loss = 0.\n",
        "    with torch.no_grad():\n",
        "        for u0_, xi_, u_ in test_loader:\n",
        "            \n",
        "            loss = 0.\n",
        "            \n",
        "            u0_ = u0_.to(device)\n",
        "            xi_ = xi_.to(device)\n",
        "            u_ = u_.to(device)\n",
        "\n",
        "            u_pred = model(u0_, xi_)\n",
        "\n",
        "            loss = myloss(u_pred.reshape(batch_size, -1), u_.reshape(batch_size, -1))\n",
        "\n",
        "            test_loss += loss.item()\n",
        "\n",
        "    scheduler.step()\n",
        "    if ep%20==0:\n",
        "      losses_train.append(train_loss/ntrain)\n",
        "      losses_test.append(test_loss/ntest)\n",
        "      print('Epoch {:04d} | Total Train Loss {:.6f} | Total Test Loss {:.6f}'.format(ep, train_loss / ntrain, test_loss / ntest))"
      ],
      "execution_count": 81,
      "outputs": [
        {
          "output_type": "stream",
          "name": "stdout",
          "text": [
            "Epoch 0000 | Total Train Loss 0.721381 | Total Test Loss 0.496425\n",
            "Epoch 0020 | Total Train Loss 0.202114 | Total Test Loss 0.185206\n",
            "Epoch 0040 | Total Train Loss 0.166815 | Total Test Loss 0.151269\n",
            "Epoch 0060 | Total Train Loss 0.146273 | Total Test Loss 0.139817\n",
            "Epoch 0080 | Total Train Loss 0.134941 | Total Test Loss 0.130776\n",
            "Epoch 0100 | Total Train Loss 0.126182 | Total Test Loss 0.123946\n",
            "Epoch 0120 | Total Train Loss 0.124116 | Total Test Loss 0.123345\n",
            "Epoch 0140 | Total Train Loss 0.122194 | Total Test Loss 0.120905\n",
            "Epoch 0160 | Total Train Loss 0.120651 | Total Test Loss 0.119362\n",
            "Epoch 0180 | Total Train Loss 0.115628 | Total Test Loss 0.114520\n",
            "Epoch 0200 | Total Train Loss 0.095753 | Total Test Loss 0.093147\n",
            "Epoch 0220 | Total Train Loss 0.086433 | Total Test Loss 0.085915\n",
            "Epoch 0240 | Total Train Loss 0.080547 | Total Test Loss 0.080225\n",
            "Epoch 0260 | Total Train Loss 0.077413 | Total Test Loss 0.077311\n",
            "Epoch 0280 | Total Train Loss 0.074399 | Total Test Loss 0.074090\n",
            "Epoch 0300 | Total Train Loss 0.069426 | Total Test Loss 0.068970\n",
            "Epoch 0320 | Total Train Loss 0.068078 | Total Test Loss 0.067818\n",
            "Epoch 0340 | Total Train Loss 0.067439 | Total Test Loss 0.067363\n",
            "Epoch 0360 | Total Train Loss 0.065864 | Total Test Loss 0.065911\n",
            "Epoch 0380 | Total Train Loss 0.065566 | Total Test Loss 0.066005\n",
            "Epoch 0400 | Total Train Loss 0.063716 | Total Test Loss 0.063567\n",
            "Epoch 0420 | Total Train Loss 0.063195 | Total Test Loss 0.063491\n",
            "Epoch 0440 | Total Train Loss 0.062651 | Total Test Loss 0.063007\n",
            "Epoch 0460 | Total Train Loss 0.063293 | Total Test Loss 0.063261\n",
            "Epoch 0480 | Total Train Loss 0.062108 | Total Test Loss 0.062269\n",
            "Epoch 0500 | Total Train Loss 0.061207 | Total Test Loss 0.061330\n",
            "Epoch 0520 | Total Train Loss 0.060899 | Total Test Loss 0.061101\n",
            "Epoch 0540 | Total Train Loss 0.062115 | Total Test Loss 0.064061\n",
            "Epoch 0560 | Total Train Loss 0.060613 | Total Test Loss 0.060834\n",
            "Epoch 0580 | Total Train Loss 0.060317 | Total Test Loss 0.060494\n",
            "Epoch 0600 | Total Train Loss 0.059942 | Total Test Loss 0.060085\n",
            "Epoch 0620 | Total Train Loss 0.059874 | Total Test Loss 0.060034\n",
            "Epoch 0640 | Total Train Loss 0.059720 | Total Test Loss 0.059901\n",
            "Epoch 0660 | Total Train Loss 0.059605 | Total Test Loss 0.059796\n",
            "Epoch 0680 | Total Train Loss 0.059506 | Total Test Loss 0.059706\n",
            "Epoch 0700 | Total Train Loss 0.059288 | Total Test Loss 0.059515\n",
            "Epoch 0720 | Total Train Loss 0.059324 | Total Test Loss 0.059451\n"
          ]
        },
        {
          "output_type": "error",
          "ename": "KeyboardInterrupt",
          "evalue": "ignored",
          "traceback": [
            "\u001b[0;31m---------------------------------------------------------------------------\u001b[0m",
            "\u001b[0;31mKeyboardInterrupt\u001b[0m                         Traceback (most recent call last)",
            "\u001b[0;32m<ipython-input-81-b951df0ac03b>\u001b[0m in \u001b[0;36m<module>\u001b[0;34m()\u001b[0m\n\u001b[1;32m     11\u001b[0m         \u001b[0mloss\u001b[0m \u001b[0;34m=\u001b[0m \u001b[0;36m0.\u001b[0m\u001b[0;34m\u001b[0m\u001b[0;34m\u001b[0m\u001b[0m\n\u001b[1;32m     12\u001b[0m \u001b[0;34m\u001b[0m\u001b[0m\n\u001b[0;32m---> 13\u001b[0;31m         \u001b[0mu0_\u001b[0m \u001b[0;34m=\u001b[0m \u001b[0mu0_\u001b[0m\u001b[0;34m.\u001b[0m\u001b[0mto\u001b[0m\u001b[0;34m(\u001b[0m\u001b[0mdevice\u001b[0m\u001b[0;34m)\u001b[0m\u001b[0;34m\u001b[0m\u001b[0;34m\u001b[0m\u001b[0m\n\u001b[0m\u001b[1;32m     14\u001b[0m         \u001b[0mxi_\u001b[0m \u001b[0;34m=\u001b[0m \u001b[0mxi_\u001b[0m\u001b[0;34m.\u001b[0m\u001b[0mto\u001b[0m\u001b[0;34m(\u001b[0m\u001b[0mdevice\u001b[0m\u001b[0;34m)\u001b[0m\u001b[0;34m\u001b[0m\u001b[0;34m\u001b[0m\u001b[0m\n\u001b[1;32m     15\u001b[0m         \u001b[0mu_\u001b[0m \u001b[0;34m=\u001b[0m \u001b[0mu_\u001b[0m\u001b[0;34m.\u001b[0m\u001b[0mto\u001b[0m\u001b[0;34m(\u001b[0m\u001b[0mdevice\u001b[0m\u001b[0;34m)\u001b[0m\u001b[0;34m\u001b[0m\u001b[0;34m\u001b[0m\u001b[0m\n",
            "\u001b[0;31mKeyboardInterrupt\u001b[0m: "
          ]
        }
      ]
    },
    {
      "cell_type": "code",
      "metadata": {
        "id": "382de-OfE4fb",
        "colab": {
          "base_uri": "https://localhost:8080/",
          "height": 265
        },
        "outputId": "6232c88a-17c6-4ed1-847d-d169ac56971f"
      },
      "source": [
        "plt.plot(losses_train,label='train')\n",
        "plt.plot(losses_test,label='test')\n",
        "plt.legend()\n",
        "plt.show()"
      ],
      "execution_count": 82,
      "outputs": [
        {
          "output_type": "display_data",
          "data": {
            "image/png": "[encoded data removed]",
            "text/plain": [
              "<Figure size 432x288 with 1 Axes>"
            ]
          },
          "metadata": {
            "needs_background": "light"
          }
        }
      ]
    },
    {
      "cell_type": "code",
      "metadata": {
        "colab": {
          "base_uri": "https://localhost:8080/",
          "height": 142
        },
        "id": "EjQ2FrOKBnse",
        "outputId": "6c9a1575-98ac-49c6-c7b0-0047fb27a53e"
      },
      "source": [
        "k = 5\n",
        "T_= 10\n",
        "\n",
        "# u0 = u0_train[k][None,...].to(device)\n",
        "# u = u_train[k][None,...].to(device) \n",
        "# xi = xi_train[k][None,...].to(device)\n",
        "u0 = u0_test[k][None,...].to(device)\n",
        "u = u_test[k][None,...].to(device) \n",
        "xi = xi_test[k][None,...].to(device)\n",
        "\n",
        "u_pred = model(u0,xi)\n",
        "\n",
        "fig, ax = plt.subplots(1,T_,figsize=(25,3))\n",
        "# fig = plt.figure(figsize=(10,3))\n",
        "plt.suptitle('Parabolic Additive Forcing', fontsize=16)\n",
        "\n",
        "for i in range(T_):\n",
        "  ax[i].plot(u[0,...,39+i].detach().cpu().numpy(),label='true')\n",
        "  ax[i].plot(u_pred[0,0,...,39+i].detach().cpu().numpy(),label='pred')\n",
        " # ax[0][i+1].set_title(f'time step {i+1}')\n",
        "\n",
        "plt.legend()\n",
        "# plt.tight_layout()\n",
        "plt.show()"
      ],
      "execution_count": 83,
      "outputs": [
        {
          "output_type": "display_data",
          "data": {
            "image/png": "[encoded data removed]",
            "text/plain": [
              "<Figure size 1800x216 with 10 Axes>"
            ]
          },
          "metadata": {
            "needs_background": "light"
          }
        }
      ]
    },
    {
      "cell_type": "markdown",
      "metadata": {
        "id": "Q0_jmj60HpNw"
      },
      "source": [
        "# FNO (Space-time FFT)"
      ]
    },
    {
      "cell_type": "code",
      "metadata": {
        "id": "1Brb_By8IV-x"
      },
      "source": [
        "reload(fourier_space1D_time)\n",
        "import fourier_space1D_time\n",
        "from fourier_space1D_time import FNO_space1D_time"
      ],
      "execution_count": 108,
      "outputs": []
    },
    {
      "cell_type": "code",
      "metadata": {
        "id": "BeDkBz_-J9pb"
      },
      "source": [
        "xi = torch.from_numpy(W.astype(np.float32)).permute(0,2,1)\n",
        "data = torch.from_numpy(Soln_mult.astype(np.float32)).permute(0,2,1)"
      ],
      "execution_count": 121,
      "outputs": []
    },
    {
      "cell_type": "code",
      "metadata": {
        "id": "ZQzKrGd5Mp_D"
      },
      "source": [
        "ntrain = 1800\n",
        "ntest = 200\n",
        "\n",
        "S = 100\n",
        "\n",
        "batch_size = 20\n",
        "epochs = 5000\n",
        "learning_rate = 0.0025\n",
        "scheduler_step = 100\n",
        "scheduler_gamma = 0.5\n",
        "step = 1\n",
        "T = 50\n",
        "sub_t = 1\n",
        "\n",
        "u_train = data[:ntrain,:-1,1:T:sub_t]\n",
        "xi_train = xi[:ntrain, :-1,1:T:sub_t].reshape(ntrain,S,1,T-1).repeat([1,1,T-1,1])\n",
        "# xi_train = torch.diff(xi[:ntrain, :-1,:T:sub_t],dim=-1)\n",
        "\n",
        "u_test = data[-ntest:,:-1,1:T:sub_t]\n",
        "xi_test = xi[-ntest:, :-1,1:T:sub_t].reshape(ntest,S,1,T-1).repeat([1,1,T-1,1])\n",
        "# xi_test = torch.diff(xi[-ntest:, :-1,:T:sub_t],dim=-1)[:,None,...]\n",
        "\n",
        "train_loader = torch.utils.data.DataLoader(torch.utils.data.TensorDataset(xi_train, u_train), batch_size=batch_size, shuffle=True)\n",
        "test_loader = torch.utils.data.DataLoader(torch.utils.data.TensorDataset(xi_test, u_test), batch_size=batch_size, shuffle=False)"
      ],
      "execution_count": 122,
      "outputs": []
    },
    {
      "cell_type": "code",
      "metadata": {
        "colab": {
          "base_uri": "https://localhost:8080/"
        },
        "id": "zNtDn5fVOQ-k",
        "outputId": "47a3b3bf-678c-47d4-f08a-ba5b34d16b91"
      },
      "source": [
        "model = FNO_space1D_time(modes1=32, modes2=16, width=16, T=T-1).cuda()\n",
        "\n",
        "print(count_params(model))\n",
        "\n",
        "optimizer = torch.optim.Adam(model.parameters(), lr=0.001, weight_decay=1e-4)\n",
        "scheduler = torch.optim.lr_scheduler.StepLR(optimizer, step_size=100, gamma=0.5)"
      ],
      "execution_count": 125,
      "outputs": [
        {
          "output_type": "stream",
          "name": "stdout",
          "text": [
            "265585\n"
          ]
        }
      ]
    },
    {
      "cell_type": "code",
      "metadata": {
        "id": "zJQ3rRkSDgRQ",
        "colab": {
          "base_uri": "https://localhost:8080/",
          "height": 895
        },
        "outputId": "22ed48aa-82ec-4122-fa43-69bf56c5d60c"
      },
      "source": [
        "myloss = LpLoss(size_average=False)\n",
        "losses_train = []\n",
        "losses_test = []\n",
        "for ep in range(epochs):\n",
        "\n",
        "    model.train()\n",
        "    \n",
        "    train_loss = 0.\n",
        "    for xi_, u_ in train_loader:\n",
        "\n",
        "        loss = 0.\n",
        "\n",
        "        xi_ = xi_.to(device)\n",
        "        u_ = u_.to(device)\n",
        "\n",
        "        u_pred = model(xi_)\n",
        "\n",
        "        loss = myloss(u_pred.reshape(batch_size, -1), u_.reshape(batch_size, -1))\n",
        "\n",
        "        train_loss += loss.item()\n",
        "        loss.backward()\n",
        "        optimizer.step()\n",
        "        optimizer.zero_grad()\n",
        " \n",
        "    test_loss = 0.\n",
        "    with torch.no_grad():\n",
        "        for xi_, u_ in test_loader:\n",
        "            \n",
        "            loss = 0.\n",
        "            \n",
        "            xi_ = xi_.to(device)\n",
        "            u_ = u_.to(device)\n",
        "\n",
        "            u_pred = model(xi_)\n",
        "\n",
        "            loss = myloss(u_pred.reshape(batch_size, -1), u_.reshape(batch_size, -1))\n",
        "\n",
        "            test_loss += loss.item()\n",
        "\n",
        "    scheduler.step()\n",
        "    if ep%20==0:\n",
        "      losses_train.append(train_loss/ntrain)\n",
        "      losses_test.append(test_loss/ntest)\n",
        "      print('Epoch {:04d} | Total Train Loss {:.6f} | Total Test Loss {:.6f}'.format(ep, train_loss / ntrain, test_loss / ntest))"
      ],
      "execution_count": 126,
      "outputs": [
        {
          "output_type": "stream",
          "name": "stdout",
          "text": [
            "Epoch 0000 | Total Train Loss 0.732520 | Total Test Loss 0.630837\n",
            "Epoch 0020 | Total Train Loss 0.363695 | Total Test Loss 0.357984\n",
            "Epoch 0040 | Total Train Loss 0.336226 | Total Test Loss 0.331629\n",
            "Epoch 0060 | Total Train Loss 0.316099 | Total Test Loss 0.312860\n",
            "Epoch 0080 | Total Train Loss 0.304738 | Total Test Loss 0.300898\n",
            "Epoch 0100 | Total Train Loss 0.298426 | Total Test Loss 0.295343\n",
            "Epoch 0120 | Total Train Loss 0.292151 | Total Test Loss 0.290473\n",
            "Epoch 0140 | Total Train Loss 0.288139 | Total Test Loss 0.285489\n",
            "Epoch 0160 | Total Train Loss 0.283219 | Total Test Loss 0.281106\n",
            "Epoch 0180 | Total Train Loss 0.279441 | Total Test Loss 0.276596\n",
            "Epoch 0200 | Total Train Loss 0.279911 | Total Test Loss 0.277434\n",
            "Epoch 0220 | Total Train Loss 0.276137 | Total Test Loss 0.274804\n",
            "Epoch 0240 | Total Train Loss 0.274343 | Total Test Loss 0.272595\n",
            "Epoch 0260 | Total Train Loss 0.272496 | Total Test Loss 0.270147\n",
            "Epoch 0280 | Total Train Loss 0.272013 | Total Test Loss 0.269613\n",
            "Epoch 0300 | Total Train Loss 0.268917 | Total Test Loss 0.266640\n",
            "Epoch 0320 | Total Train Loss 0.266941 | Total Test Loss 0.264956\n",
            "Epoch 0340 | Total Train Loss 0.265711 | Total Test Loss 0.263698\n",
            "Epoch 0360 | Total Train Loss 0.264329 | Total Test Loss 0.262300\n",
            "Epoch 0380 | Total Train Loss 0.263930 | Total Test Loss 0.262034\n",
            "Epoch 0400 | Total Train Loss 0.263123 | Total Test Loss 0.261088\n",
            "Epoch 0420 | Total Train Loss 0.262647 | Total Test Loss 0.260687\n",
            "Epoch 0440 | Total Train Loss 0.262147 | Total Test Loss 0.260232\n",
            "Epoch 0460 | Total Train Loss 0.261798 | Total Test Loss 0.259726\n",
            "Epoch 0480 | Total Train Loss 0.261363 | Total Test Loss 0.259544\n",
            "Epoch 0500 | Total Train Loss 0.260930 | Total Test Loss 0.259000\n",
            "Epoch 0520 | Total Train Loss 0.260687 | Total Test Loss 0.258835\n",
            "Epoch 0540 | Total Train Loss 0.260494 | Total Test Loss 0.258541\n",
            "Epoch 0560 | Total Train Loss 0.260272 | Total Test Loss 0.258468\n",
            "Epoch 0580 | Total Train Loss 0.260058 | Total Test Loss 0.258189\n",
            "Epoch 0600 | Total Train Loss 0.259805 | Total Test Loss 0.257935\n",
            "Epoch 0620 | Total Train Loss 0.259678 | Total Test Loss 0.257891\n",
            "Epoch 0640 | Total Train Loss 0.259556 | Total Test Loss 0.257691\n",
            "Epoch 0660 | Total Train Loss 0.259455 | Total Test Loss 0.257605\n",
            "Epoch 0680 | Total Train Loss 0.259355 | Total Test Loss 0.257482\n",
            "Epoch 0700 | Total Train Loss 0.259212 | Total Test Loss 0.257340\n",
            "Epoch 0720 | Total Train Loss 0.259149 | Total Test Loss 0.257316\n",
            "Epoch 0740 | Total Train Loss 0.259093 | Total Test Loss 0.257238\n",
            "Epoch 0760 | Total Train Loss 0.259030 | Total Test Loss 0.257172\n"
          ]
        },
        {
          "output_type": "error",
          "ename": "KeyboardInterrupt",
          "evalue": "ignored",
          "traceback": [
            "\u001b[0;31m---------------------------------------------------------------------------\u001b[0m",
            "\u001b[0;31mKeyboardInterrupt\u001b[0m                         Traceback (most recent call last)",
            "\u001b[0;32m<ipython-input-126-4c3f6cb5c73f>\u001b[0m in \u001b[0;36m<module>\u001b[0;34m()\u001b[0m\n\u001b[1;32m     11\u001b[0m         \u001b[0mloss\u001b[0m \u001b[0;34m=\u001b[0m \u001b[0;36m0.\u001b[0m\u001b[0;34m\u001b[0m\u001b[0;34m\u001b[0m\u001b[0m\n\u001b[1;32m     12\u001b[0m \u001b[0;34m\u001b[0m\u001b[0m\n\u001b[0;32m---> 13\u001b[0;31m         \u001b[0mxi_\u001b[0m \u001b[0;34m=\u001b[0m \u001b[0mxi_\u001b[0m\u001b[0;34m.\u001b[0m\u001b[0mto\u001b[0m\u001b[0;34m(\u001b[0m\u001b[0mdevice\u001b[0m\u001b[0;34m)\u001b[0m\u001b[0;34m\u001b[0m\u001b[0;34m\u001b[0m\u001b[0m\n\u001b[0m\u001b[1;32m     14\u001b[0m         \u001b[0mu_\u001b[0m \u001b[0;34m=\u001b[0m \u001b[0mu_\u001b[0m\u001b[0;34m.\u001b[0m\u001b[0mto\u001b[0m\u001b[0;34m(\u001b[0m\u001b[0mdevice\u001b[0m\u001b[0;34m)\u001b[0m\u001b[0;34m\u001b[0m\u001b[0;34m\u001b[0m\u001b[0m\n\u001b[1;32m     15\u001b[0m \u001b[0;34m\u001b[0m\u001b[0m\n",
            "\u001b[0;31mKeyboardInterrupt\u001b[0m: "
          ]
        }
      ]
    },
    {
      "cell_type": "markdown",
      "metadata": {
        "id": "hqQnMsvoalrd"
      },
      "source": [
        "#NCDE"
      ]
    },
    {
      "cell_type": "code",
      "metadata": {
        "id": "pOgEaME6Pqwk"
      },
      "source": [
        "from NCDE import NeuralCDE"
      ],
      "execution_count": 20,
      "outputs": []
    },
    {
      "cell_type": "code",
      "metadata": {
        "id": "sUj8jzfgfgog"
      },
      "source": [
        "xi = torch.from_numpy(W.astype(np.float32)).permute(0,2,1)\n",
        "data = torch.from_numpy(Soln_mult.astype(np.float32)).permute(0,2,1)"
      ],
      "execution_count": 21,
      "outputs": []
    },
    {
      "cell_type": "code",
      "metadata": {
        "id": "RaXmQanddpEN"
      },
      "source": [
        "ntrain = 800\n",
        "ntest = 200\n",
        "\n",
        "S = 100\n",
        "\n",
        "batch_size = 20\n",
        "epochs = 500\n",
        "learning_rate = 0.0025\n",
        "scheduler_step = 100\n",
        "scheduler_gamma = 0.5\n",
        "step = 1\n",
        "T = 50\n",
        "sub_t = 1\n",
        "\n",
        "u0_train = data[:ntrain,:-1,0]\n",
        "u_train = data[:ntrain,:-1,1:T:sub_t].permute(0,2,1)\n",
        "xi_train = xi[:ntrain, :-1,1:T:sub_t].permute(0,2,1)\n",
        "# xi_train = torch.diff(xi[:ntrain, :-1,:T:sub_t],dim=-1)\n",
        "t = torch.linspace(0., 1, T)[None,1:,None].repeat(ntrain,1,1)\n",
        "xi_train = torch.cat([t,xi_train],dim=2)\n",
        "\n",
        "u0_test = data[-ntest:,:-1,0]\n",
        "u_test = data[-ntest:,:-1,1:T:sub_t].permute(0,2,1)\n",
        "xi_test = xi[-ntest:, :-1,1:T:sub_t].permute(0,2,1)\n",
        "# xi_test = torch.diff(xi[-ntest:, :-1,:T:sub_t],dim=-1)[:,None,...]\n",
        "t = torch.linspace(0., 1, T)[None,1:,None].repeat(ntest,1,1)\n",
        "xi_test = torch.cat([t,xi_test],dim=2)\n",
        "\n",
        "# interpolation\n",
        "xi_train = torchcde.linear_interpolation_coeffs(xi_train)\n",
        "xi_test = torchcde.linear_interpolation_coeffs(xi_test)\n",
        "# xi_train = torchcde.hermite_cubic_coefficients_with_backward_differences(xi_train)\n",
        "# xi_test = torchcde.hermite_cubic_coefficients_with_backward_differences(xi_test)"
      ],
      "execution_count": 22,
      "outputs": []
    },
    {
      "cell_type": "code",
      "metadata": {
        "id": "rdqv8UtyeNf2"
      },
      "source": [
        "train_loader = torch.utils.data.DataLoader(torch.utils.data.TensorDataset(u0_train, xi_train, u_train), batch_size=batch_size, shuffle=True)\n",
        "test_loader = torch.utils.data.DataLoader(torch.utils.data.TensorDataset(u0_test, xi_test, u_test), batch_size=batch_size, shuffle=False)"
      ],
      "execution_count": 23,
      "outputs": []
    },
    {
      "cell_type": "code",
      "metadata": {
        "id": "wofPxZ01cu3T",
        "colab": {
          "base_uri": "https://localhost:8080/"
        },
        "outputId": "cdf6d716-784c-48a8-f44a-2d49209506c7"
      },
      "source": [
        "model = NeuralCDE(input_channels=S+1, hidden_channels=2, output_channels=S, interpolation='linear').cuda()\n",
        "print(count_params(model))\n",
        "optimizer = torch.optim.Adam(model.parameters(), lr=0.001, weight_decay=1e-4)\n",
        "scheduler = torch.optim.lr_scheduler.StepLR(optimizer, step_size=100, gamma=0.5)"
      ],
      "execution_count": 24,
      "outputs": [
        {
          "output_type": "stream",
          "name": "stdout",
          "text": [
            "26944\n"
          ]
        }
      ]
    },
    {
      "cell_type": "code",
      "metadata": {
        "colab": {
          "base_uri": "https://localhost:8080/",
          "height": 409
        },
        "id": "k_EraKCwdE8k",
        "outputId": "6ab31fea-5868-4633-cdb6-4d73ef5eda20"
      },
      "source": [
        "myloss = LpLoss(size_average=False)\n",
        "losses_train = []\n",
        "losses_test = []\n",
        "for ep in range(epochs):\n",
        "\n",
        "    model.train()\n",
        "    \n",
        "    train_loss = 0.\n",
        "    for u0_, xi_, u_ in train_loader:\n",
        "\n",
        "        loss = 0.\n",
        "\n",
        "        u0_ = u0_.to(device)\n",
        "        xi_ = xi_.to(device)\n",
        "        u_ = u_.to(device)\n",
        "\n",
        "        u_pred = model(u0_, xi_)\n",
        "\n",
        "        loss = myloss(u_pred.reshape(batch_size, -1), u_.reshape(batch_size, -1))\n",
        "\n",
        "        train_loss += loss.item()\n",
        "        loss.backward()\n",
        "        optimizer.step()\n",
        "        optimizer.zero_grad()\n",
        " \n",
        "    test_loss = 0.\n",
        "    with torch.no_grad():\n",
        "        for u0_, xi_, u_ in test_loader:\n",
        "            \n",
        "            loss = 0.\n",
        "            \n",
        "            u0_ = u0_.to(device)\n",
        "            xi_ = xi_.to(device)\n",
        "            u_ = u_.to(device)\n",
        "\n",
        "            u_pred = model(u0_, xi_)\n",
        "\n",
        "            loss = myloss(u_pred.reshape(batch_size, -1), u_.reshape(batch_size, -1))\n",
        "\n",
        "            test_loss += loss.item()\n",
        "\n",
        "    scheduler.step()\n",
        "    if ep%20==0:\n",
        "      losses_train.append(train_loss/ntrain)\n",
        "      losses_test.append(test_loss/ntest)\n",
        "      print('Epoch {:04d} | Total Train Loss {:.6f} | Total Test Loss {:.6f}'.format(ep, train_loss / ntrain, test_loss / ntest))"
      ],
      "execution_count": 25,
      "outputs": [
        {
          "output_type": "stream",
          "name": "stdout",
          "text": [
            "Epoch 0000 | Total Train Loss 14.248213 | Total Test Loss 12.798864\n"
          ]
        },
        {
          "output_type": "error",
          "ename": "KeyboardInterrupt",
          "evalue": "ignored",
          "traceback": [
            "\u001b[0;31m---------------------------------------------------------------------------\u001b[0m",
            "\u001b[0;31mKeyboardInterrupt\u001b[0m                         Traceback (most recent call last)",
            "\u001b[0;32m<ipython-input-25-b951df0ac03b>\u001b[0m in \u001b[0;36m<module>\u001b[0;34m()\u001b[0m\n\u001b[1;32m     21\u001b[0m         \u001b[0mtrain_loss\u001b[0m \u001b[0;34m+=\u001b[0m \u001b[0mloss\u001b[0m\u001b[0;34m.\u001b[0m\u001b[0mitem\u001b[0m\u001b[0;34m(\u001b[0m\u001b[0;34m)\u001b[0m\u001b[0;34m\u001b[0m\u001b[0;34m\u001b[0m\u001b[0m\n\u001b[1;32m     22\u001b[0m         \u001b[0mloss\u001b[0m\u001b[0;34m.\u001b[0m\u001b[0mbackward\u001b[0m\u001b[0;34m(\u001b[0m\u001b[0;34m)\u001b[0m\u001b[0;34m\u001b[0m\u001b[0;34m\u001b[0m\u001b[0m\n\u001b[0;32m---> 23\u001b[0;31m         \u001b[0moptimizer\u001b[0m\u001b[0;34m.\u001b[0m\u001b[0mstep\u001b[0m\u001b[0;34m(\u001b[0m\u001b[0;34m)\u001b[0m\u001b[0;34m\u001b[0m\u001b[0;34m\u001b[0m\u001b[0m\n\u001b[0m\u001b[1;32m     24\u001b[0m         \u001b[0moptimizer\u001b[0m\u001b[0;34m.\u001b[0m\u001b[0mzero_grad\u001b[0m\u001b[0;34m(\u001b[0m\u001b[0;34m)\u001b[0m\u001b[0;34m\u001b[0m\u001b[0;34m\u001b[0m\u001b[0m\n\u001b[1;32m     25\u001b[0m \u001b[0;34m\u001b[0m\u001b[0m\n",
            "\u001b[0;32m/usr/local/lib/python3.7/dist-packages/torch/optim/lr_scheduler.py\u001b[0m in \u001b[0;36mwrapper\u001b[0;34m(*args, **kwargs)\u001b[0m\n\u001b[1;32m     63\u001b[0m                 \u001b[0minstance\u001b[0m\u001b[0;34m.\u001b[0m\u001b[0m_step_count\u001b[0m \u001b[0;34m+=\u001b[0m \u001b[0;36m1\u001b[0m\u001b[0;34m\u001b[0m\u001b[0;34m\u001b[0m\u001b[0m\n\u001b[1;32m     64\u001b[0m                 \u001b[0mwrapped\u001b[0m \u001b[0;34m=\u001b[0m \u001b[0mfunc\u001b[0m\u001b[0;34m.\u001b[0m\u001b[0m__get__\u001b[0m\u001b[0;34m(\u001b[0m\u001b[0minstance\u001b[0m\u001b[0;34m,\u001b[0m \u001b[0mcls\u001b[0m\u001b[0;34m)\u001b[0m\u001b[0;34m\u001b[0m\u001b[0;34m\u001b[0m\u001b[0m\n\u001b[0;32m---> 65\u001b[0;31m                 \u001b[0;32mreturn\u001b[0m \u001b[0mwrapped\u001b[0m\u001b[0;34m(\u001b[0m\u001b[0;34m*\u001b[0m\u001b[0margs\u001b[0m\u001b[0;34m,\u001b[0m \u001b[0;34m**\u001b[0m\u001b[0mkwargs\u001b[0m\u001b[0;34m)\u001b[0m\u001b[0;34m\u001b[0m\u001b[0;34m\u001b[0m\u001b[0m\n\u001b[0m\u001b[1;32m     66\u001b[0m \u001b[0;34m\u001b[0m\u001b[0m\n\u001b[1;32m     67\u001b[0m             \u001b[0;31m# Note that the returned function here is no longer a bound method,\u001b[0m\u001b[0;34m\u001b[0m\u001b[0;34m\u001b[0m\u001b[0;34m\u001b[0m\u001b[0m\n",
            "\u001b[0;32m/usr/local/lib/python3.7/dist-packages/torch/optim/optimizer.py\u001b[0m in \u001b[0;36mwrapper\u001b[0;34m(*args, **kwargs)\u001b[0m\n\u001b[1;32m     86\u001b[0m                 \u001b[0mprofile_name\u001b[0m \u001b[0;34m=\u001b[0m \u001b[0;34m\"Optimizer.step#{}.step\"\u001b[0m\u001b[0;34m.\u001b[0m\u001b[0mformat\u001b[0m\u001b[0;34m(\u001b[0m\u001b[0mobj\u001b[0m\u001b[0;34m.\u001b[0m\u001b[0m__class__\u001b[0m\u001b[0;34m.\u001b[0m\u001b[0m__name__\u001b[0m\u001b[0;34m)\u001b[0m\u001b[0;34m\u001b[0m\u001b[0;34m\u001b[0m\u001b[0m\n\u001b[1;32m     87\u001b[0m                 \u001b[0;32mwith\u001b[0m \u001b[0mtorch\u001b[0m\u001b[0;34m.\u001b[0m\u001b[0mautograd\u001b[0m\u001b[0;34m.\u001b[0m\u001b[0mprofiler\u001b[0m\u001b[0;34m.\u001b[0m\u001b[0mrecord_function\u001b[0m\u001b[0;34m(\u001b[0m\u001b[0mprofile_name\u001b[0m\u001b[0;34m)\u001b[0m\u001b[0;34m:\u001b[0m\u001b[0;34m\u001b[0m\u001b[0;34m\u001b[0m\u001b[0m\n\u001b[0;32m---> 88\u001b[0;31m                     \u001b[0;32mreturn\u001b[0m \u001b[0mfunc\u001b[0m\u001b[0;34m(\u001b[0m\u001b[0;34m*\u001b[0m\u001b[0margs\u001b[0m\u001b[0;34m,\u001b[0m \u001b[0;34m**\u001b[0m\u001b[0mkwargs\u001b[0m\u001b[0;34m)\u001b[0m\u001b[0;34m\u001b[0m\u001b[0;34m\u001b[0m\u001b[0m\n\u001b[0m\u001b[1;32m     89\u001b[0m             \u001b[0;32mreturn\u001b[0m \u001b[0mwrapper\u001b[0m\u001b[0;34m\u001b[0m\u001b[0;34m\u001b[0m\u001b[0m\n\u001b[1;32m     90\u001b[0m \u001b[0;34m\u001b[0m\u001b[0m\n",
            "\u001b[0;32m/usr/local/lib/python3.7/dist-packages/torch/autograd/grad_mode.py\u001b[0m in \u001b[0;36mdecorate_context\u001b[0;34m(*args, **kwargs)\u001b[0m\n\u001b[1;32m     26\u001b[0m         \u001b[0;32mdef\u001b[0m \u001b[0mdecorate_context\u001b[0m\u001b[0;34m(\u001b[0m\u001b[0;34m*\u001b[0m\u001b[0margs\u001b[0m\u001b[0;34m,\u001b[0m \u001b[0;34m**\u001b[0m\u001b[0mkwargs\u001b[0m\u001b[0;34m)\u001b[0m\u001b[0;34m:\u001b[0m\u001b[0;34m\u001b[0m\u001b[0;34m\u001b[0m\u001b[0m\n\u001b[1;32m     27\u001b[0m             \u001b[0;32mwith\u001b[0m \u001b[0mself\u001b[0m\u001b[0;34m.\u001b[0m\u001b[0m__class__\u001b[0m\u001b[0;34m(\u001b[0m\u001b[0;34m)\u001b[0m\u001b[0;34m:\u001b[0m\u001b[0;34m\u001b[0m\u001b[0;34m\u001b[0m\u001b[0m\n\u001b[0;32m---> 28\u001b[0;31m                 \u001b[0;32mreturn\u001b[0m \u001b[0mfunc\u001b[0m\u001b[0;34m(\u001b[0m\u001b[0;34m*\u001b[0m\u001b[0margs\u001b[0m\u001b[0;34m,\u001b[0m \u001b[0;34m**\u001b[0m\u001b[0mkwargs\u001b[0m\u001b[0;34m)\u001b[0m\u001b[0;34m\u001b[0m\u001b[0;34m\u001b[0m\u001b[0m\n\u001b[0m\u001b[1;32m     29\u001b[0m         \u001b[0;32mreturn\u001b[0m \u001b[0mcast\u001b[0m\u001b[0;34m(\u001b[0m\u001b[0mF\u001b[0m\u001b[0;34m,\u001b[0m \u001b[0mdecorate_context\u001b[0m\u001b[0;34m)\u001b[0m\u001b[0;34m\u001b[0m\u001b[0;34m\u001b[0m\u001b[0m\n\u001b[1;32m     30\u001b[0m \u001b[0;34m\u001b[0m\u001b[0m\n",
            "\u001b[0;32m/usr/local/lib/python3.7/dist-packages/torch/optim/adam.py\u001b[0m in \u001b[0;36mstep\u001b[0;34m(self, closure)\u001b[0m\n\u001b[1;32m    116\u001b[0m                    \u001b[0mlr\u001b[0m\u001b[0;34m=\u001b[0m\u001b[0mgroup\u001b[0m\u001b[0;34m[\u001b[0m\u001b[0;34m'lr'\u001b[0m\u001b[0;34m]\u001b[0m\u001b[0;34m,\u001b[0m\u001b[0;34m\u001b[0m\u001b[0;34m\u001b[0m\u001b[0m\n\u001b[1;32m    117\u001b[0m                    \u001b[0mweight_decay\u001b[0m\u001b[0;34m=\u001b[0m\u001b[0mgroup\u001b[0m\u001b[0;34m[\u001b[0m\u001b[0;34m'weight_decay'\u001b[0m\u001b[0;34m]\u001b[0m\u001b[0;34m,\u001b[0m\u001b[0;34m\u001b[0m\u001b[0;34m\u001b[0m\u001b[0m\n\u001b[0;32m--> 118\u001b[0;31m                    eps=group['eps'])\n\u001b[0m\u001b[1;32m    119\u001b[0m         \u001b[0;32mreturn\u001b[0m \u001b[0mloss\u001b[0m\u001b[0;34m\u001b[0m\u001b[0;34m\u001b[0m\u001b[0m\n",
            "\u001b[0;32m/usr/local/lib/python3.7/dist-packages/torch/optim/_functional.py\u001b[0m in \u001b[0;36madam\u001b[0;34m(params, grads, exp_avgs, exp_avg_sqs, max_exp_avg_sqs, state_steps, amsgrad, beta1, beta2, lr, weight_decay, eps)\u001b[0m\n\u001b[1;32m     85\u001b[0m         \u001b[0;31m# Decay the first and second moment running average coefficient\u001b[0m\u001b[0;34m\u001b[0m\u001b[0;34m\u001b[0m\u001b[0;34m\u001b[0m\u001b[0m\n\u001b[1;32m     86\u001b[0m         \u001b[0mexp_avg\u001b[0m\u001b[0;34m.\u001b[0m\u001b[0mmul_\u001b[0m\u001b[0;34m(\u001b[0m\u001b[0mbeta1\u001b[0m\u001b[0;34m)\u001b[0m\u001b[0;34m.\u001b[0m\u001b[0madd_\u001b[0m\u001b[0;34m(\u001b[0m\u001b[0mgrad\u001b[0m\u001b[0;34m,\u001b[0m \u001b[0malpha\u001b[0m\u001b[0;34m=\u001b[0m\u001b[0;36m1\u001b[0m \u001b[0;34m-\u001b[0m \u001b[0mbeta1\u001b[0m\u001b[0;34m)\u001b[0m\u001b[0;34m\u001b[0m\u001b[0;34m\u001b[0m\u001b[0m\n\u001b[0;32m---> 87\u001b[0;31m         \u001b[0mexp_avg_sq\u001b[0m\u001b[0;34m.\u001b[0m\u001b[0mmul_\u001b[0m\u001b[0;34m(\u001b[0m\u001b[0mbeta2\u001b[0m\u001b[0;34m)\u001b[0m\u001b[0;34m.\u001b[0m\u001b[0maddcmul_\u001b[0m\u001b[0;34m(\u001b[0m\u001b[0mgrad\u001b[0m\u001b[0;34m,\u001b[0m \u001b[0mgrad\u001b[0m\u001b[0;34m,\u001b[0m \u001b[0mvalue\u001b[0m\u001b[0;34m=\u001b[0m\u001b[0;36m1\u001b[0m \u001b[0;34m-\u001b[0m \u001b[0mbeta2\u001b[0m\u001b[0;34m)\u001b[0m\u001b[0;34m\u001b[0m\u001b[0;34m\u001b[0m\u001b[0m\n\u001b[0m\u001b[1;32m     88\u001b[0m         \u001b[0;32mif\u001b[0m \u001b[0mamsgrad\u001b[0m\u001b[0;34m:\u001b[0m\u001b[0;34m\u001b[0m\u001b[0;34m\u001b[0m\u001b[0m\n\u001b[1;32m     89\u001b[0m             \u001b[0;31m# Maintains the maximum of all 2nd moment running avg. till now\u001b[0m\u001b[0;34m\u001b[0m\u001b[0;34m\u001b[0m\u001b[0;34m\u001b[0m\u001b[0m\n",
            "\u001b[0;31mKeyboardInterrupt\u001b[0m: "
          ]
        }
      ]
    },
    {
      "cell_type": "code",
      "metadata": {
        "id": "NM5HcKHCg8k_"
      },
      "source": [
        ""
      ],
      "execution_count": null,
      "outputs": []
    }
  ]
}