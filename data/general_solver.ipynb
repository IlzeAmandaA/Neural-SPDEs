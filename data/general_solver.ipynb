{
 "cells": [
  {
   "cell_type": "code",
   "execution_count": 34,
   "metadata": {},
   "outputs": [],
   "source": [
    "import numpy as np\n",
    "from time import time\n",
    "from tqdm.notebook import tqdm\n",
    "import matplotlib.pyplot as plt\n",
    "#import Noise\n",
    "\n",
    "%run Noise.ipynb"
   ]
  },
  {
   "cell_type": "code",
   "execution_count": 60,
   "metadata": {},
   "outputs": [],
   "source": [
    "def general_1d_solver(L, u0, W, mu, sigma = lambda x: 1, T = 1, X = 1, Burgers = 0, compl = False):\n",
    "    \n",
    "    # L = [c_0, ... c_3, c_4] corresponds to a differential operator L = \\sum c_i \\partial^i_x\n",
    "    # in the parabolic operator (\\partial_t - L)\n",
    "    \n",
    "    # NB: including c_0 != 0 allows to ignore it in the non-linearity: taking mu(u) = -u^3 + 3u and c_0 = 0 \n",
    "    # is equivalent to taking mu(u) = -u^3 and c_0 = 3 \n",
    "    \n",
    "    \n",
    "    \n",
    "    # u0 - initial condition\n",
    "    # xi - space time noise\n",
    "    # mu - drift term of the equation\n",
    "    # sigma - diffusion term of the equation\n",
    "    # T - time horizon\n",
    "    # X - space domain is [0,X]\n",
    "    # Burgers - coefficient in front of the Burger's term u*\\partial_x u in the equation\n",
    "    \n",
    "    # Check operator conditoins. Must have c_4 < 0 or c_2 > 0 if c_4 = 0\n",
    "    if (type(L[-1]) != complex) and (L[-1] > 0) or (L[-1] == 0 and type(L[2]) != complex and L[2] < 0):\n",
    "        print(\"Differential Operator is not Elliptic.\")\n",
    "        return\n",
    "    \n",
    "    # space time grid\n",
    "    M, N =  W.shape[-1], W.shape[-2] - 1,\n",
    "    dt = T/N\n",
    "    \n",
    "    \n",
    "    # Time deirvative of the noise\n",
    "    \n",
    "    if len(W.shape) > 2:\n",
    "        dW = np.zeros(W.shape)\n",
    "        dW[:,1:,:] = np.diff(W, axis = 1)\n",
    "    else:\n",
    "        dW = np.zeros((1, W.shape[0], W.shape[1]))\n",
    "        dW[:,1:,:] = np.diff(W, axis = 0)\n",
    "    \n",
    "    K = np.arange(M) # Fourier space\n",
    "    # Space derivatives in Fourier space. These are analogues of central finite difference in Fourier Space\n",
    "    # All these give an error of O(N^{-2}) if n-th derivative is approximated by (2*np.pi*K)^n\n",
    "    \n",
    "    dx = M/X*1j*np.sin(2*np.pi*K/M)\n",
    "    d2x = 2*(M/X)**2*(np.cos(2*np.pi*K/M) - 1)\n",
    "    d3x = dx*d2x\n",
    "    d4x = 2*(M/X)**4*(np.cos(4*np.pi*K/M) - 4*np.cos(2*np.pi*K/M) + 3)\n",
    "    \n",
    "    Lk = L[0] + L[1]*dx + L[2]*d2x + L[3]*d3x + L[4]*d4x # Full differential operator in the Fourier space \n",
    "    \n",
    "    if compl:\n",
    "        soln = np.zeros(dW.shape) + 1j*np.zeros(dW.shape)\n",
    "    else:\n",
    "        soln = np.zeros(dW.shape)\n",
    "    \n",
    "    soln[:,0,:] = u0 # set the initial condition\n",
    "    \n",
    "    w = np.fft.fft(u0, axis = -1)\n",
    "    \n",
    "    for i in tqdm(range(1, N+1)):\n",
    "        \n",
    "        if Burgers != 0: # if Burgers term is present compute space derivative. M/X = (dx)^{-1}\n",
    "            diff = np.zeros((soln.shape[0], M))\n",
    "            diff[:, 1:] = np.diff(soln[:,i-1,:], axis = 1)\n",
    "            diff[:, 0] = soln[:,i-1,0] - soln[:,i-1,-1]\n",
    "            B = Burgers*soln[:,i-1,:]*diff*M/X\n",
    "        else:\n",
    "            B = 0\n",
    "        \n",
    "        # non-linearities in the physical space\n",
    "        RHS = np.vectorize(mu)(soln[:,i-1,:])*dt + np.vectorize(sigma)(soln[:,i-1,:])*dW[:,i,:] + B*dt\n",
    "        \n",
    "        # updating the Fourier transform for the next time step\n",
    "        w = ( (1+0.5*Lk*dt) * w + np.fft.fft(RHS, axis = -1) )/(1-0.5*Lk*dt)\n",
    "        \n",
    "        # Going back to the physiscal space\n",
    "        if compl:\n",
    "            soln[:,i,:] = np.fft.ifft(w, axis = -1)\n",
    "        else:\n",
    "            soln[:,i,:] = np.fft.ifft(w, axis = -1).real\n",
    "        \n",
    "        \n",
    "    return soln, np.linspace(0,T, N+1), np.linspace(0, X, M+1)[:-1]    "
   ]
  },
  {
   "cell_type": "code",
   "execution_count": 53,
   "metadata": {},
   "outputs": [
    {
     "name": "stdout",
     "output_type": "stream",
     "text": [
      "0.1501760482788086\n"
     ]
    }
   ],
   "source": [
    "N = 1 # number of realizations\n",
    "\n",
    "# time space boundaries\n",
    "s, t, a, b = 0, 1, 0, 1\n",
    "\n",
    "# time space mesh sizes\n",
    "dt, dx = 1e-3, 0.005\n",
    "\n",
    "# Generate N realizations of space time white noise. \n",
    "# Might take a while if the dt = 1e-4. Around 441 seconds to generate 1000 noises with mesh dt = 1e-4 on my laptop\n",
    "# and 146 seconds with dt = 1e-3.\n",
    "\n",
    "s_ = -time()\n",
    "W = Noise().WN_space_time_many(s, t, dt, a, b, dx, N)\n",
    "print(s_+time())\n",
    "\n",
    "#space time domain\n",
    "T, X = np.linspace(0,1, W.shape[1]), np.linspace(0,1, W.shape[2])\n",
    "\n",
    "# generate N realizations of initial conditions like in the paper\n",
    "u0 = np.array([[x*(1-x) for x in X[:-1]] for _ in range(N)])\n",
    "lambd = 0.1 # strength of the randomness\n",
    "\n",
    "u0 = u0 + lambd*Noise().initial(N, X, p = 10)[:,:-1] # Delete the last space point which is equal to the first one\n",
    "\n",
    "mu = lambda x: -x**3 + 3*x\n",
    "mu_ = lambda x: -x**3 # the above mu but without the linear part which could be absorbed in the linear operator\n",
    "sigma = lambda x: x\n",
    "\n",
    "# Differential operator\n",
    "\n",
    "L = [3,-1,1,3,-0.5]\n",
    "\n",
    "# Nonlinear Schrodinger equation \n",
    "\n",
    "mu_s = lambda x : -1j*x*np.absolute(x)**2\n",
    "L_s = [0,0,1j,0,0]"
   ]
  },
  {
   "cell_type": "code",
   "execution_count": 47,
   "metadata": {},
   "outputs": [
    {
     "name": "stderr",
     "output_type": "stream",
     "text": [
      "100%|██████████| 1000/1000 [00:00<00:00, 5715.60it/s]\n"
     ]
    }
   ],
   "source": [
    "# Might be worth spliting into batches of 100 noises and apply general_1d_solver separately if dt = 1e-4. In general_1d_solver\n",
    "# noise W is transformed into dW which might take a while if N is large and dt is small.\n",
    "soln, _, _ = general_1d_solver(L, u0, W[:,:,:-1], mu = mu_, sigma = sigma)\n",
    "\n",
    "# Ignore the last space point in the noise which is equal to the first one by periodicity in W[:,:,:-1]"
   ]
  },
  {
   "cell_type": "code",
   "execution_count": 61,
   "metadata": {},
   "outputs": [
    {
     "name": "stderr",
     "output_type": "stream",
     "text": [
      "100%|██████████| 1000/1000 [00:00<00:00, 1977.16it/s]\n"
     ]
    }
   ],
   "source": [
    "Schrodinger, _, _ = general_1d_solver(L_s, u0, W[:,:,:-1], mu = mu_s, sigma = lambda x : 0, compl = True)"
   ]
  },
  {
   "cell_type": "code",
   "execution_count": null,
   "metadata": {},
   "outputs": [],
   "source": []
  }
 ],
 "metadata": {
  "kernelspec": {
   "display_name": "Python 3",
   "language": "python",
   "name": "python3"
  },
  "language_info": {
   "codemirror_mode": {
    "name": "ipython",
    "version": 3
   },
   "file_extension": ".py",
   "mimetype": "text/x-python",
   "name": "python",
   "nbconvert_exporter": "python",
   "pygments_lexer": "ipython3",
   "version": "3.8.1"
  }
 },
 "nbformat": 4,
 "nbformat_minor": 4
}
