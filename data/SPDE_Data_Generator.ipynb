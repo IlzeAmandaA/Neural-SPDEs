{
 "cells": [
  {
   "cell_type": "code",
   "execution_count": 26,
   "metadata": {},
   "outputs": [],
   "source": [
    "import numpy as np\n",
    "from time import time\n",
    "from tqdm.notebook import tqdm\n",
    "import matplotlib.pyplot as plt\n",
    "import pandas as pd\n",
    "\n",
    "%run Noise.ipynb\n",
    "%run general_solver.ipynb"
   ]
  },
  {
   "cell_type": "code",
   "execution_count": 12,
   "metadata": {},
   "outputs": [
    {
     "name": "stdout",
     "output_type": "stream",
     "text": [
      "0.3660271167755127\n"
     ]
    }
   ],
   "source": [
    "N = 1 # number of realizations of the noise and initial conditions\n",
    "\n",
    "# time space boundaries\n",
    "s, t, a, b = 0, 1, 0, 1\n",
    "\n",
    "# time space mesh sizes\n",
    "dt, dx = 1e-3, 0.005\n",
    "\n",
    "# Generate N realizations of space time white noise. \n",
    "# Might take a while if the dt = 1e-4. Around 441 seconds to generate 1000 noises with mesh dt = 1e-4 on my laptop\n",
    "# and 146 seconds with dt = 1e-3.\n",
    "# Might be worth spliting into batches of 100 noises and apply general_1d_solver separately if dt = 1e-4. In general_1d_solver\n",
    "# noise W is transformed into dW which might take a while if N is large and dt is small.\n",
    "\n",
    "s_ = -time()\n",
    "W = Noise().WN_space_time_many(s, t, dt, a, b, dx, N)\n",
    "print(s_+time())\n",
    "\n",
    "#space time domain\n",
    "T, X = np.linspace(0,1, W.shape[1]), np.linspace(0,1, W.shape[2])\n",
    "\n",
    "# generate N realizations of initial conditions like in the paper\n",
    "u0 = np.array([[x*(1-x) for x in X[:-1]] for _ in range(N)])\n",
    "lambd = 0.1 # strength of the randomness of the noise\n",
    "\n",
    "u0 = u0 + lambd*Noise().initial(N, X, p = 10)[:,:-1] # Delete the last space point which is equal to the first one\n"
   ]
  },
  {
   "cell_type": "code",
   "execution_count": 13,
   "metadata": {},
   "outputs": [
    {
     "name": "stderr",
     "output_type": "stream",
     "text": [
      "100%|██████████| 1000/1000 [00:00<00:00, 2939.94it/s]\n"
     ]
    }
   ],
   "source": [
    "# Kuramoto–Sivashinsky SPDE.\n",
    "\n",
    "L_ks = [0,0,-1,0,-1]\n",
    "mu_ks = lambda x : 0\n",
    "sigma_ks = lambda x : 1\n",
    "\n",
    "KS, _, _ = general_1d_solver(L, u0, W[:,:,:-1], mu = mu_ks, sigma = sigma_ks, KPZ = 0.5)\n",
    "\n",
    "# Ignore the last space point in the noise which is equal to the first one by periodicity in W[:,:,:-1]"
   ]
  },
  {
   "cell_type": "code",
   "execution_count": 18,
   "metadata": {},
   "outputs": [
    {
     "name": "stderr",
     "output_type": "stream",
     "text": [
      "100%|██████████| 1000/1000 [00:00<00:00, 1060.31it/s]\n"
     ]
    }
   ],
   "source": [
    "# Random Nonlinear Schrodinger equation (no noise)\n",
    "\n",
    "L_s = [0,0,1j,0,0]\n",
    "mu_s = lambda x : -1j*x*np.absolute(x)**2\n",
    "sigma_s = lambda x : 0\n",
    "\n",
    "# create imaginary part of the initial condition\n",
    "\n",
    "u0_im = u0 + lambd*Noise().initial(N, X, p = 10)[:,:-1]\n",
    "\n",
    "u0_s = u0 + 1j*u0_im\n",
    "\n",
    "Schrodinger, _, _ = general_1d_solver(L_s, u0_s, W[:,:,:-1], mu = mu_s, sigma = sigma_s, compl = True)"
   ]
  },
  {
   "cell_type": "code",
   "execution_count": 36,
   "metadata": {},
   "outputs": [
    {
     "name": "stderr",
     "output_type": "stream",
     "text": [
      "100%|██████████| 1000/1000 [00:00<00:00, 6379.01it/s]\n"
     ]
    }
   ],
   "source": [
    "# Phi^4 equation with Dirichlet boundary conditions\n",
    "\n",
    "u0_d = np.array([[x*(1-x) for x in X] for _ in range(N)])\n",
    "u0_d = u0_d + lambd*Noise().initial(N, X, p = 10, Dirichlet = True)\n",
    "\n",
    "mu_d = lambda x: -x**3\n",
    "sigma_d = lambda x: x\n",
    "\n",
    "solver = SPDE(Type = 'P', IC = u0_d, mu = mu_d, sigma = sigma_d, BC = 'D', T = T, X = X)\n",
    "\n",
    "Phi4_D = solver.Parabolic(W)"
   ]
  },
  {
   "cell_type": "code",
   "execution_count": null,
   "metadata": {},
   "outputs": [],
   "source": []
  }
 ],
 "metadata": {
  "kernelspec": {
   "display_name": "Python 3",
   "language": "python",
   "name": "python3"
  },
  "language_info": {
   "codemirror_mode": {
    "name": "ipython",
    "version": 3
   },
   "file_extension": ".py",
   "mimetype": "text/x-python",
   "name": "python",
   "nbconvert_exporter": "python",
   "pygments_lexer": "ipython3",
   "version": "3.8.1"
  }
 },
 "nbformat": 4,
 "nbformat_minor": 4
}
